{
  "cells": [
    {
      "cell_type": "code",
      "execution_count": 14,
      "metadata": {
        "id": "FTELxirPFiAQ"
      },
      "outputs": [],
      "source": [
        "# 3 Examples of Dictionaries\n",
        "\n",
        "my_dict = {'a': 1, 'b': 2, 'c': 3}\n"
      ]
    },
    {
      "cell_type": "code",
      "execution_count": 15,
      "metadata": {
        "colab": {
          "base_uri": "https://localhost:8080/"
        },
        "id": "ZIKs5qGSGW6L",
        "outputId": "4e94ab79-cca3-4a98-cf87-9b2fbc862903"
      },
      "outputs": [
        {
          "data": {
            "text/plain": [
              "1"
            ]
          },
          "execution_count": 15,
          "metadata": {},
          "output_type": "execute_result"
        }
      ],
      "source": [
        "# Accessing Values in Dictionary\n",
        "\n",
        "my_dict[\"a\"]"
      ]
    },
    {
      "cell_type": "code",
      "execution_count": 16,
      "metadata": {
        "id": "qZ7VnfcmK48D"
      },
      "outputs": [
        {
          "name": "stdout",
          "output_type": "stream",
          "text": [
            "3\n"
          ]
        }
      ],
      "source": [
        "# len\n",
        "\n",
        "print(len(my_dict))"
      ]
    },
    {
      "cell_type": "code",
      "execution_count": 17,
      "metadata": {
        "colab": {
          "base_uri": "https://localhost:8080/"
        },
        "id": "0tk2tkILGJid",
        "outputId": "a1c6757f-bb2b-47bb-dec5-bb496efa212f"
      },
      "outputs": [
        {
          "name": "stdout",
          "output_type": "stream",
          "text": [
            "dict_items([('a', 1), ('b', 2), ('c', 3)])\n"
          ]
        }
      ],
      "source": [
        "# dict.items()\n",
        "\n",
        "print(my_dict.items())\n"
      ]
    },
    {
      "cell_type": "code",
      "execution_count": 18,
      "metadata": {
        "colab": {
          "base_uri": "https://localhost:8080/"
        },
        "id": "fIU5ei5dGP6_",
        "outputId": "422715d5-5ce3-4fd2-c50a-f016107b18da"
      },
      "outputs": [
        {
          "name": "stdout",
          "output_type": "stream",
          "text": [
            "dict_keys(['a', 'b', 'c'])\n",
            "Key: a\n",
            "Key: b\n",
            "Key: c\n"
          ]
        }
      ],
      "source": [
        "# dict.keys()\n",
        "keys = my_dict.keys()\n",
        "\n",
        "print(keys)\n"
      ]
    },
    {
      "cell_type": "code",
      "execution_count": 21,
      "metadata": {
        "colab": {
          "base_uri": "https://localhost:8080/"
        },
        "id": "nAGR-rjsGfyW",
        "outputId": "4cd1b5ed-5e8b-4104-947d-86280c0bf979"
      },
      "outputs": [
        {
          "name": "stdout",
          "output_type": "stream",
          "text": [
            "1\n"
          ]
        }
      ],
      "source": [
        "# dict.get()\n",
        "value_a = my_dict.get('a')\n",
        "\n",
        "print(value_a)"
      ]
    },
    {
      "cell_type": "code",
      "execution_count": 22,
      "metadata": {
        "colab": {
          "base_uri": "https://localhost:8080/"
        },
        "id": "uS01Dn2_GueU",
        "outputId": "c6c1272f-6bad-4c0b-a2e2-c37904f4a564"
      },
      "outputs": [
        {
          "name": "stdout",
          "output_type": "stream",
          "text": [
            "dict_values([1, 2, 3])\n"
          ]
        }
      ],
      "source": [
        "# dict.values()\n",
        "values = my_dict.values()\n",
        "\n",
        "print(values)"
      ]
    },
    {
      "cell_type": "code",
      "execution_count": 25,
      "metadata": {
        "id": "eRLPd_HaGteB"
      },
      "outputs": [
        {
          "name": "stdout",
          "output_type": "stream",
          "text": [
            "{'a': 1, 'b': 20, 'c': 3}\n",
            "{'a': 1, 'b': 30, 'c': 3, 'd': 4}\n"
          ]
        }
      ],
      "source": [
        "# update existing entry\n",
        "\n",
        "my_dict['b'] = 20\n",
        "\n",
        "print(my_dict)\n",
        "\n",
        "update_dict = {'b':30, 'd': 4}\n",
        "\n",
        "my_dict.update(update_dict)\n",
        "\n",
        "print(my_dict)"
      ]
    },
    {
      "cell_type": "code",
      "execution_count": 27,
      "metadata": {
        "id": "WheucqeoGvqD"
      },
      "outputs": [
        {
          "name": "stdout",
          "output_type": "stream",
          "text": [
            "{'a': 1, 'b': 2, 'c': 3, 'd': 4}\n",
            "{'a': 1, 'b': 2, 'c': 3, 'd': 4, 'e': 5}\n"
          ]
        }
      ],
      "source": [
        "# Add new entry\n",
        "my_dict = {'a': 1, 'b': 2, 'c': 3}\n",
        "my_dict['d'] = 4\n",
        "\n",
        "print(my_dict)\n",
        "\n",
        "my_dict = {'a': 1, 'b' : 2, 'c': 3}\n",
        "new_enteries = {'d': 4 , 'e': 5}\n",
        "\n",
        "my_dict.update(new_enteries)\n",
        "\n",
        "print(my_dict)"
      ]
    },
    {
      "cell_type": "code",
      "execution_count": 29,
      "metadata": {
        "id": "Vjzs8_x4EUtI"
      },
      "outputs": [
        {
          "ename": "NameError",
          "evalue": "name 'my_dict' is not defined",
          "output_type": "error",
          "traceback": [
            "\u001b[1;31m---------------------------------------------------------------------------\u001b[0m",
            "\u001b[1;31mNameError\u001b[0m                                 Traceback (most recent call last)",
            "\u001b[1;32mc:\\Users\\Masuod\\Desktop\\Exercise\\Data Mining\\1\\Data_type_5___Dictionaries.ipynb Cell 10\u001b[0m line \u001b[0;36m<cell line: 6>\u001b[1;34m()\u001b[0m\n\u001b[0;32m      <a href='vscode-notebook-cell:/c%3A/Users/Masuod/Desktop/Exercise/Data%20Mining/1/Data_type_5___Dictionaries.ipynb#X12sZmlsZQ%3D%3D?line=2'>3</a>\u001b[0m my_dict \u001b[39m=\u001b[39m {\u001b[39m'\u001b[39m\u001b[39ma\u001b[39m\u001b[39m'\u001b[39m: \u001b[39m1\u001b[39m, \u001b[39m'\u001b[39m\u001b[39mb\u001b[39m\u001b[39m'\u001b[39m: \u001b[39m2\u001b[39m, \u001b[39m'\u001b[39m\u001b[39mc\u001b[39m\u001b[39m'\u001b[39m: \u001b[39m3\u001b[39m}\n\u001b[0;32m      <a href='vscode-notebook-cell:/c%3A/Users/Masuod/Desktop/Exercise/Data%20Mining/1/Data_type_5___Dictionaries.ipynb#X12sZmlsZQ%3D%3D?line=3'>4</a>\u001b[0m \u001b[39mdel\u001b[39;00m my_dict\n\u001b[1;32m----> <a href='vscode-notebook-cell:/c%3A/Users/Masuod/Desktop/Exercise/Data%20Mining/1/Data_type_5___Dictionaries.ipynb#X12sZmlsZQ%3D%3D?line=5'>6</a>\u001b[0m \u001b[39mprint\u001b[39m(my_dict)\n",
            "\u001b[1;31mNameError\u001b[0m: name 'my_dict' is not defined"
          ]
        }
      ],
      "source": [
        "# del dict\n",
        "\n",
        "my_dict = {'a': 1, 'b': 2, 'c': 3}\n",
        "del my_dict\n",
        "\n",
        "print(my_dict)"
      ]
    },
    {
      "cell_type": "code",
      "execution_count": 30,
      "metadata": {
        "id": "F0oKpiSwKnYI"
      },
      "outputs": [
        {
          "name": "stdout",
          "output_type": "stream",
          "text": [
            "{'a': 1, 'c': 3}\n"
          ]
        }
      ],
      "source": [
        "# del dict [\"Key\"]\n",
        "\n",
        "my_dict = { 'a': 1, 'b': 2, 'c': 3}\n",
        "del my_dict['b']\n",
        "\n",
        "print(my_dict)"
      ]
    },
    {
      "cell_type": "code",
      "execution_count": 31,
      "metadata": {
        "id": "fvX97MflF0w5"
      },
      "outputs": [
        {
          "name": "stdout",
          "output_type": "stream",
          "text": [
            "{}\n"
          ]
        }
      ],
      "source": [
        "# dict.clear()\n",
        "my_dict = {'a': 1, 'b': 2, 'c': 3}\n",
        "\n",
        "my_dict.clear()\n",
        "\n",
        "print(my_dict)\n"
      ]
    },
    {
      "cell_type": "code",
      "execution_count": null,
      "metadata": {
        "id": "JEJfzi7GF7kJ"
      },
      "outputs": [],
      "source": []
    }
  ],
  "metadata": {
    "colab": {
      "provenance": []
    },
    "kernelspec": {
      "display_name": "Python 3",
      "name": "python3"
    },
    "language_info": {
      "codemirror_mode": {
        "name": "ipython",
        "version": 3
      },
      "file_extension": ".py",
      "mimetype": "text/x-python",
      "name": "python",
      "nbconvert_exporter": "python",
      "pygments_lexer": "ipython3",
      "version": "3.8.6"
    }
  },
  "nbformat": 4,
  "nbformat_minor": 0
}
