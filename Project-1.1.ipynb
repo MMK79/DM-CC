{
 "cells": [
  {
   "cell_type": "code",
   "execution_count": 39,
   "metadata": {},
   "outputs": [
    {
     "name": "stdout",
     "output_type": "stream",
     "text": [
      "  سرپرست Head_of_Family\n",
      "0   مادر           مادر\n",
      "1    پدر            پدر\n",
      "2   مادر           مادر\n",
      "3   مادر           مادر\n",
      "4    پدر            پدر\n"
     ]
    }
   ],
   "source": [
    "import pandas as pd\n",
    "\n",
    "# Load the dataset\n",
    "file_path = r'C:\\Users\\Masuod\\Desktop\\Exercise\\Data Mining\\1\\Real Data.xlsx'\n",
    "df = pd.read_excel(file_path)\n",
    "\n",
    "# Identify the head of the family\n",
    "df['Head_of_Family'] = df['سرپرست'].apply(lambda x: 'Other' if x == 'دیگری' else x)\n",
    "\n",
    "# Display the first few rows to verify the new column\n",
    "print(df[['سرپرست', 'Head_of_Family']].head())"
   ]
  },
  {
   "cell_type": "code",
   "execution_count": 41,
   "metadata": {},
   "outputs": [
    {
     "name": "stdout",
     "output_type": "stream",
     "text": [
      "['at_home' 'health' 'other' 'services' 'teacher' 'others' 'otherr' nan\n",
      " 'Teacher' 'معلم خصوصی' 'بازنشسته' 'استاد دانشگاه' '\"at_home\"' 'teacherr'\n",
      " 'at home' 'athom']\n"
     ]
    }
   ],
   "source": [
    "# Combine both parent job columns\n",
    "combined_jobs = pd.concat([df['شغل مادر'], df['شغل پدر']])\n",
    "\n",
    "# Get unique job values\n",
    "unique_jobs = combined_jobs.unique()\n",
    "print(unique_jobs)\n"
   ]
  },
  {
   "cell_type": "code",
   "execution_count": null,
   "metadata": {},
   "outputs": [],
   "source": [
    "# Convert all job labels to lowercase and strip extra spaces\n",
    "df['شغل مادر'] = df['شغل مادر'].str.lower().str.strip()\n",
    "df['شغل پدر'] = df['شغل پدر'].str.lower().str.strip()\n",
    "\n",
    "# Remove extra characters, if any\n",
    "df['شغل مادر'] = df['شغل مادر'].str.replace('[^\\w\\s]', '')\n",
    "df['شغل پدر'] = df['شغل پدر'].str.replace('[^\\w\\s]', '')\n",
    "\n",
    "# Replace some specific variations of labels with a standard one\n",
    "replace_dict = {\n",
    "    'teacherr': 'teacher',\n",
    "    'at home': 'at_home',\n",
    "    'athom': 'at_home',\n",
    "    '\"at_home\"': 'at_home',\n",
    "    'استاد دانشگاه': ''\n",
    "    # ... add more as needed\n",
    "}\n",
    "\n",
    "df.replace({'شغل مادر': replace_dict, 'شغل پدر': replace_dict}, inplace=True)\n",
    "\n",
    "# Check the unique values again\n",
    "unique_jobs_mother = df['شغل مادر'].unique()\n",
    "unique_jobs_father = df['شغل پدر'].unique()\n",
    "\n",
    "print(unique_jobs_mother)\n",
    "print(unique_jobs_father)\n"
   ]
  },
  {
   "cell_type": "code",
   "execution_count": 40,
   "metadata": {},
   "outputs": [
    {
     "data": {
      "image/png": "[encoded data removed]",
      "text/plain": [
       "<Figure size 576x432 with 2 Axes>"
      ]
     },
     "metadata": {
      "needs_background": "light"
     },
     "output_type": "display_data"
    }
   ],
   "source": [
    "# Encode categorical variables\n",
    "df['Encoded_Mother_Job'] = df['شغل مادر'].astype('category').cat.codes\n",
    "df['Encoded_Father_Job'] = df['شغل پدر'].astype('category').cat.codes\n",
    "df['Encoded_Head_Job'] = df['Head_of_Family'].astype('category').cat.codes\n",
    "\n",
    "# Calculate mean of grade columns\n",
    "grade_cols = ['نمره در امتحان اول', 'نمره در امتحان دوم', 'نمره امتحان پایانی']\n",
    "df['Mean_Grades'] = df[grade_cols].mean(axis=1)\n",
    "\n",
    "# Merge the relevant columns\n",
    "correlation_df = df[['Encoded_Head_Job', 'Mean_Grades']]\n",
    "\n",
    "# Calculate correlation matrix\n",
    "correlation_matrix = correlation_df.corr()\n",
    "\n",
    "# Plot the heatmap\n",
    "plt.figure(figsize=(8, 6))\n",
    "sns.heatmap(correlation_matrix, annot=True, cmap='coolwarm', fmt='.2f')\n",
    "plt.title('Correlation between Head of Family Job and Mean Grades')\n",
    "plt.show()\n"
   ]
  }
 ],
 "metadata": {
  "kernelspec": {
   "display_name": "Python 3",
   "language": "python",
   "name": "python3"
  },
  "language_info": {
   "codemirror_mode": {
    "name": "ipython",
    "version": 3
   },
   "file_extension": ".py",
   "mimetype": "text/x-python",
   "name": "python",
   "nbconvert_exporter": "python",
   "pygments_lexer": "ipython3",
   "version": "3.8.6rc1"
  }
 },
 "nbformat": 4,
 "nbformat_minor": 2
}
