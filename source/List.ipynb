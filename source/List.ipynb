{
"nbformat": 4,
"nbformat_minor": 0,
"metadata": {
"colab": {
"provenance": []
},
"kernelspec": {
"name": "python3",
"display_name": "Python 3"
},
"language_info": {
"name": "python"
}
},
"cells": [
{
"cell_type": "code",
"metadata": {
"id": "bDNFq-YPcGb8"
},
"source": [
"A = ['Physics', 'Chemistry', 1997, 152 ]\n",
"B = [1, 2, 3, 4, 5, 6, 7]\n",
"C = [\"1\" , \"2\", \"3\", \"3\", \"5\"]"
],
"execution_count": null,
"outputs": []
},
{
"cell_type": "code",
"metadata": {
"id": "dYpFv8nYdFUk"
},
"source": [
"# index\n",
"\n",
"# 0 1 2 3 4 5 6 7\n",
"# -8 -7 -6 -5 -4 -3 -2 -1"
],
"execution_count": null,
"outputs": []
},
{
"cell_type": "code",
"metadata": {
"colab": {
"base_uri": "https://localhost:8080/"
},
"id": "jZYXq0lDdNJV",
"outputId": "24999d69-b9ca-4b8f-d1cd-5621f6df20dd"
},
"source": [
"# Slicing\n",
"\n",
"print (A [0])\n",
"print (A [-2 :])\n",
"print (A [2:4])"
],
"execution_count": null,
"outputs": [
{
"output_type": "stream",
"text": [
"Physics\n",
"[1997, 152]\n",
"[1997, 152]\n"
],
"name": "stdout"
}
]
},
{
"cell_type": "code",
"metadata": {
"colab": {
"base_uri": "https://localhost:8080/"
},
"id": "pL0Eu1SmdZ3K",
"outputId": "fc76d0b4-d186-464e-8f3f-671681a457c7"
},
"source": [
"# Updating\n",
"\n",
"C [3] = \"Ali\"\n",
"C"
],
"execution_count": null,
"outputs": [
{
"output_type": "execute_result",
"data": {
"text/plain": [
"['1', '2', '3', 'Ali', '5']"
]
},
"metadata": {
"tags": []
},
"execution_count": 8
}
]
},
{
"cell_type": "code",
"metadata": {
"colab": {
"base_uri": "https://localhost:8080/"
},
"id": "o27laqc8eIW2",
"outputId": "2398f25e-4ff7-4947-b08c-5157804f3451"
},
"source": [
"# Concatination\n",
"\n",
"A + B"
],
"execution_count": null,
"outputs": [
{
"output_type": "execute_result",
"data": {
"text/plain": [
"['Physics', 'Chemistry', 1997, 152, 1, 2, 3, 4, 5, 6, 7]"
]
},
"metadata": {
"tags": []
},
"execution_count": 9
}
]
},
{
"cell_type": "code",
"metadata": {
"colab": {
"base_uri": "https://localhost:8080/"
},
"id": "qp5t9PExePkk",
"outputId": "82510d90-2f19-4dc1-a811-44f45c04cbfa"
},
"source": [
"# Repeatation\n",
"\n",
"B * 2"
],
"execution_count": null,
"outputs": [
{
"output_type": "execute_result",
"data": {
"text/plain": [
"[1, 2, 3, 4, 5, 6, 7, 1, 2, 3, 4, 5, 6, 7]"
]
},
"metadata": {
"tags": []
},
"execution_count": 10
}
]
},
{
"cell_type": "code",
"metadata": {
"colab": {
"base_uri": "https://localhost:8080/"
},
"id": "uc4hKCHrekaA",
"outputId": "8f86c0f4-cab7-47da-a99c-9008e7603418"
},
"source": [
"# Membership\n",
"\n",
"print ( 1 in A)\n",
"print ( 1 not in A)"
],
"execution_count": null,
"outputs": [
{
"output_type": "stream",
"text": [
"False\n",
"True\n"
],
"name": "stdout"
}
]
},
{
"cell_type": "code",
"metadata": {
"colab": {
"base_uri": "https://localhost:8080/"
},
"id": "d9Vr-USnezK7",
"outputId": "be99e242-8faf-48e1-ae70-3fdc51429a36"
},
"source": [
"# len\n",
"len (A)"
],
"execution_count": null,
"outputs": [
{
"output_type": "execute_result",
"data": {
"text/plain": [
"4"
]
},
"metadata": {
"tags": []
},
"execution_count": 13
}
]
},
{
"cell_type": "code",
"metadata": {
"colab": {
"base_uri": "https://localhost:8080/"
},
"id": "Q3aCPNWOe9ei",
"outputId": "33f9bde4-a71d-4557-e6bc-191c9cb7c374"
},
"source": [
"# Convert to list\n",
"\n",
"a = (2, 3)\n",
"list(a)"
],
"execution_count": null,
"outputs": [
{
"output_type": "execute_result",
"data": {
"text/plain": [
"[2, 3]"
]
},
"metadata": {
"tags": []
},
"execution_count": 14
}
]
},
{
"cell_type": "code",
"metadata": {
"colab": {
"base_uri": "https://localhost:8080/"
},
"id": "wc_2aG1QfRfN",
"outputId": "5cf265dc-d6d2-4311-b657-d830190a5268"
},
"source": [
"# Add to list\n",
"# Append\n",
"\n",
"\n",
"D = [1, 2 , 3, 4 ,5, 6]\n",
"D.append (7)\n",
"D"
],
"execution_count": null,
"outputs": [
{
"output_type": "execute_result",
"data": {
"text/plain": [
"[1, 2, 3, 4, 5, 6, 7]"
]
},
"metadata": {
"tags": []
},
"execution_count": 15
}
]
},
{
"cell_type": "code",
"metadata": {
"colab": {
"base_uri": "https://localhost:8080/"
},
"id": "rpXAIaVTfn0x",
"outputId": "a2de123c-f084-4dc7-ecb4-a9b01ba35d06"
},
"source": [
"D.append ([8,9,10])\n",
"D"
],
"execution_count": null,
"outputs": [
{
"output_type": "execute_result",
"data": {
"text/plain": [
"[1, 2, 3, 4, 5, 6, 7, [8, 9, 10]]"
]
},
"metadata": {
"tags": []
},
"execution_count": 16
}
]
},
{
"cell_type": "code",
"metadata": {
"colab": {
"base_uri": "https://localhost:8080/",
"height": 162
},
"id": "QSmvjQeggO_b",
"outputId": "aef3c9cf-b3df-42dd-ed69-e042dc17d8c3"
},
"source": [
"D.append (8,9,10)"
],
"execution_count": null,
"outputs": [
{
"output_type": "error",
"ename": "TypeError",
"evalue": "ignored",
"traceback": [
"\u001b[0;31m---------------------------------------------------------------------------\u001b[0m",
"\u001b[0;31mTypeError\u001b[0m                                 Traceback (most recent call last)",
"\u001b[0;32m<ipython-input-17-af90cb1ceac1>\u001b[0m in \u001b[0;36m<module>\u001b[0;34m()\u001b[0m\n\u001b[0;32m----> 1\u001b[0;31m \u001b[0mD\u001b[0m\u001b[0;34m.\u001b[0m\u001b[0mappend\u001b[0m \u001b[0;34m(\u001b[0m\u001b[0;36m8\u001b[0m\u001b[0;34m,\u001b[0m\u001b[0;36m9\u001b[0m\u001b[0;34m,\u001b[0m\u001b[0;36m10\u001b[0m\u001b[0;34m)\u001b[0m\u001b[0;34m\u001b[0m\u001b[0;34m\u001b[0m\u001b[0m\n\u001b[0m",
"\u001b[0;31mTypeError\u001b[0m: append() takes exactly one argument (3 given)"
]
}
]
},
{
"cell_type": "code",
"metadata": {
"colab": {
"base_uri": "https://localhost:8080/"
},
"id": "IpsLfwEjgao8",
"outputId": "35eda4ad-908a-4f1d-f09c-6bdc903de62d"
},
"source": [
"D [7] = 8\n",
"D + [8,9,10]"
],
"execution_count": null,
"outputs": [
{
"output_type": "execute_result",
"data": {
"text/plain": [
"[1, 2, 3, 4, 5, 6, 7, 8, 8, 9, 10]"
]
},
"metadata": {
"tags": []
},
"execution_count": 19
}
]
},
{
"cell_type": "code",
"metadata": {
"colab": {
"base_uri": "https://localhost:8080/"
},
"id": "cdugy4hXg02v",
"outputId": "bf3b0df6-46da-44e5-ae45-94f6f8dc80a8"
},
"source": [
"# Add to list\n",
"# Extend\n",
"\n",
"D = [1, 2 , 3, 4 ,5, 6]\n",
"D.extend ([8,9,10,11])\n",
"D"
],
"execution_count": null,
"outputs": [
{
"output_type": "execute_result",
"data": {
"text/plain": [
"[1, 2, 3, 4, 5, 6, 8, 9, 10, 11]"
]
},
"metadata": {
"tags": []
},
"execution_count": 20
}
]
},
{
"cell_type": "code",
"metadata": {
"colab": {
"base_uri": "https://localhost:8080/"
},
"id": "lhHd2poWhKdA",
"outputId": "6e128090-9062-4932-cedf-124d67ed4bba"
},
"source": [
"# count\n",
"\n",
"E = [1,1,1, 2,2, 3, 4, 5]\n",
"E.count(1)"
],
"execution_count": null,
"outputs": [
{
"output_type": "execute_result",
"data": {
"text/plain": [
"3"
]
},
"metadata": {
"tags": []
},
"execution_count": 21
}
]
},
{
"cell_type": "code",
"metadata": {
"colab": {
"base_uri": "https://localhost:8080/"
},
"id": "S1xaKuDuh2Ar",
"outputId": "2a366235-ad3f-4105-cf34-3da5fcd71ccb"
},
"source": [
"# Remove from list\n",
"# del\n",
"\n",
"del D [5]\n",
"D"
],
"execution_count": null,
"outputs": [
{
"output_type": "execute_result",
"data": {
"text/plain": [
"[1, 2, 3, 4, 5, 8, 9, 10, 11]"
]
},
"metadata": {
"tags": []
},
"execution_count": 22
}
]
},
{
"cell_type": "code",
"metadata": {
"colab": {
"base_uri": "https://localhost:8080/"
},
"id": "Z0F_Lr6riTo1",
"outputId": "6640dcde-115b-4754-eb1b-3d2d552e00a0"
},
"source": [
"# Remove from list\n",
"# pop\n",
"\n",
"F = [1,2,3,5,5,5]\n",
"F.pop (4)"
],
"execution_count": null,
"outputs": [
{
"output_type": "execute_result",
"data": {
"text/plain": [
"5"
]
},
"metadata": {
"tags": []
},
"execution_count": 24
}
]
},
{
"cell_type": "code",
"metadata": {
"colab": {
"base_uri": "https://localhost:8080/"
},
"id": "kev_3eyWjJF0",
"outputId": "a3a62cd0-f544-42ff-8015-d912b7975bc6"
},
"source": [
"F"
],
"execution_count": null,
"outputs": [
{
"output_type": "execute_result",
"data": {
"text/plain": [
"[1, 2, 3, 5, 5]"
]
},
"metadata": {
"tags": []
},
"execution_count": 25
}
]
},
{
"cell_type": "code",
"metadata": {
"id": "ehz0zNKJinED"
},
"source": [
"# Remove from list\n",
"# Remove\n",
"\n",
"F = [1,2,\"Ali\",5,5,5]\n",
"F.remove(\"Ali\")"
],
"execution_count": null,
"outputs": []
},
{
"cell_type": "code",
"metadata": {
"colab": {
"base_uri": "https://localhost:8080/"
},
"id": "yDeNgxLBjaz7",
"outputId": "82a60484-c7e7-4d6d-967d-eecd85ba8dd6"
},
"source": [
"F"
],
"execution_count": null,
"outputs": [
{
"output_type": "execute_result",
"data": {
"text/plain": [
"[1, 2, 5, 5, 5]"
]
},
"metadata": {
"tags": []
},
"execution_count": 30
}
]
},
{
"cell_type": "code",
"metadata": {
"colab": {
"base_uri": "https://localhost:8080/"
},
"id": "OqBP-HcQjcoF",
"outputId": "3cc45e62-c31d-48eb-93fa-da3139b75752"
},
"source": [
"F.remove(5)\n",
"F"
],
"execution_count": null,
"outputs": [
{
"output_type": "execute_result",
"data": {
"text/plain": [
"[1, 2, 5, 5]"
]
},
"metadata": {
"tags": []
},
"execution_count": 31
}
]
},
{
"cell_type": "code",
"metadata": {
"colab": {
"base_uri": "https://localhost:8080/"
},
"id": "Nk_q2vzsj9q3",
"outputId": "3693bf95-9586-49ff-aa04-2eeba8af55a4"
},
"source": [
"F = [1, 2, 3, 4, 5, 6, 7, 8]\n",
"del F [1:4]\n",
"F"
],
"execution_count": null,
"outputs": [
{
"output_type": "execute_result",
"data": {
"text/plain": [
"[1, 5, 6, 7, 8]"
]
},
"metadata": {
"tags": []
},
"execution_count": 34
}
]
},
{
"cell_type": "code",
"metadata": {
"colab": {
"base_uri": "https://localhost:8080/"
},
"id": "xNvcB1uXkTOm",
"outputId": "fe839e69-2116-4d4d-a4d3-e7e95b348100"
},
"source": [
"del F [1:4]\n",
"F"
],
"execution_count": null,
"outputs": [
{
"output_type": "execute_result",
"data": {
"text/plain": [
"[1, 8]"
]
},
"metadata": {
"tags": []
},
"execution_count": 35
}
]
},
{
"cell_type": "code",
"metadata": {
"colab": {
"base_uri": "https://localhost:8080/"
},
"id": "1gum1w_CknTT",
"outputId": "c820fc9b-8b5c-45ee-f4e3-9f02f5eba040"
},
"source": [
"# Sort\n",
"\n",
"G = [8, 6, 5, 2, 9, 7, 9, 1, 2, 1, 2]\n",
"G.sort ()\n",
"G"
],
"execution_count": null,
"outputs": [
{
"output_type": "execute_result",
"data": {
"text/plain": [
"[1, 1, 2, 2, 2, 5, 6, 7, 8, 9, 9]"
]
},
"metadata": {
"tags": []
},
"execution_count": 36
}
]
},
{
"cell_type": "code",
"metadata": {
"id": "N9vjf47DlSAl"
},
"source": [
"G.extend?"
],
"execution_count": null,
"outputs": []
},
{
"cell_type": "code",
"metadata": {
"id": "xrX3XnCelcqR"
},
"source": [],
"execution_count": null,
"outputs": []
}
]
}