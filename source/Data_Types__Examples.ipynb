{
"nbformat": 4,
"nbformat_minor": 0,
"metadata": {
"colab": {
"provenance": []
},
"kernelspec": {
"name": "python3",
"display_name": "Python 3"
}
},
"cells": [
{
"cell_type": "code",
"metadata": {
"colab": {
"base_uri": "https://localhost:8080/"
},
"id": "RXuYF7PortN3",
"outputId": "842fca79-5502-4eb0-9c03-37cc0ab91afb"
},
"source": [
"# Example 1___length of words\n",
"\n",
"\n",
"text = \"Social network analysis (SNA) might have an unexplored value in the study of interactions in technology-enhanced learning at large and in online (Problem Based Learning) PBL in particular. Using SNA to study students’ positions in information exchange networks, communicational activities, and interactions, we can broaden our understanding of the process of PBL, evaluate the significance of each participant role and learn how interactions can affect academic performance.\"\n",
"word_list = text.split(\" \")\n",
"long_words = []\n",
"\n",
"for w in word_list :\n",
"  if len(w) > 8 : long_words.append (w)\n",
"\n",
"long_words"
],
"execution_count": null,
"outputs": [
{
"output_type": "execute_result",
"data": {
"text/plain": [
"['unexplored',\n",
" 'interactions',\n",
" 'technology-enhanced',\n",
" 'Learning)',\n",
" 'particular.',\n",
" 'students’',\n",
" 'positions',\n",
" 'information',\n",
" 'networks,',\n",
" 'communicational',\n",
" 'activities,',\n",
" 'interactions,',\n",
" 'understanding',\n",
" 'significance',\n",
" 'participant',\n",
" 'interactions',\n",
" 'performance.']"
]
},
"metadata": {
"tags": []
},
"execution_count": 2
}
]
},
{
"cell_type": "code",
"metadata": {
"colab": {
"base_uri": "https://localhost:8080/",
"height": 35
},
"id": "vFPohSH5u5a7",
"outputId": "664ac601-1924-4c04-82d7-ca0655090bbf"
},
"source": [
"# Example 2 __ Generate Pasword\n",
"\n",
"allowable_characters = \"qwertyuioplkjhgfdaszxcvbnmQWERTYUIOPLKJHGFDSAZXCVBNM@#$_-1234567890\"\n",
"pass_length = 8\n",
"\n",
"import random\n",
"a = random.sample (allowable_characters , pass_length )\n",
"password = \"\".join (a)\n",
"\n",
"password"
],
"execution_count": null,
"outputs": [
{
"output_type": "execute_result",
"data": {
"application/vnd.google.colaboratory.intrinsic+json": {
"type": "string"
},
"text/plain": [
"'Uvq7E2hw'"
]
},
"metadata": {
"tags": []
},
"execution_count": 6
}
]
},
{
"cell_type": "code",
"metadata": {
"colab": {
"base_uri": "https://localhost:8080/"
},
"id": "RfjWf6Yiw1pr",
"outputId": "1c0479b3-bfd8-46b4-c2d5-a9c90aa675aa"
},
"source": [
"# Example 3__ Today\n",
"\n",
"from datetime import datetime\n",
"print (datetime.now())"
],
"execution_count": null,
"outputs": [
{
"output_type": "stream",
"text": [
"2020-12-03 08:44:54.699033\n"
],
"name": "stdout"
}
]
},
{
"cell_type": "code",
"metadata": {
"colab": {
"base_uri": "https://localhost:8080/",
"height": 35
},
"id": "t-vJW5v2xo83",
"outputId": "9710db27-6229-43f5-dd2b-9cc0681ea9aa"
},
"source": [
"str (datetime.now())"
],
"execution_count": null,
"outputs": [
{
"output_type": "execute_result",
"data": {
"application/vnd.google.colaboratory.intrinsic+json": {
"type": "string"
},
"text/plain": [
"'2020-12-03 08:48:01.749827'"
]
},
"metadata": {
"tags": []
},
"execution_count": 9
}
]
},
{
"cell_type": "code",
"metadata": {
"colab": {
"base_uri": "https://localhost:8080/"
},
"id": "s9zEG_MryX2x",
"outputId": "8cacba3c-ea3d-45f8-b7b1-3c7796741a7a"
},
"source": [
"# Example 3__ Today\n",
"\n",
"from datetime import datetime\n",
"Now_string = str (datetime.now())\n",
"\n",
"year = Now_string [0:4]\n",
"month = Now_string [5:7]\n",
"day = Now_string [8:10]\n",
"\n",
"Today = (year, month, day)\n",
"Today"
],
"execution_count": null,
"outputs": [
{
"output_type": "execute_result",
"data": {
"text/plain": [
"('2020', '12', '03')"
]
},
"metadata": {
"tags": []
},
"execution_count": 11
}
]
},
{
"cell_type": "code",
"metadata": {
"id": "vCzF2Uw3y52z"
},
"source": [],
"execution_count": null,
"outputs": []
}
]
}