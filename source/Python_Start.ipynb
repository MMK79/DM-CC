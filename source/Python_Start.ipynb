{
"nbformat": 4,
"nbformat_minor": 0,
"metadata": {
"colab": {
"provenance": []
},
"kernelspec": {
"name": "python3",
"display_name": "Python 3"
},
"language_info": {
"name": "python"
}
},
"cells": [
{
"cell_type": "markdown",
"metadata": {
"id": "ztQSgmcBZAaS"
},
"source": [
" **Comparison Operators** \\\n",
" **if, elif, else Statements** \\\n",
" **for loops** \\\n",
" **while loops** \\\n",
" **range()**\\\n",
"\n",
"\n",
"**Data Types** :\n",
"\n",
"*   Numbers\n",
"\n",
"\n",
"\n",
"*   Strings\n",
"\n",
"*   Printing\n",
"\n",
"*   Lists\n",
"*   Dictionaries\n",
"\n",
"\n",
"*   Booleans\n",
"\n",
"\n",
"*   Tuples\n",
"\n",
"\n",
"*   Sets\n",
"\n",
"\n",
" **functions** \\\n",
" **lambda expressions** \\\n",
" **map and filter** \\\n",
" **methods** \\\n",
"\n"
]
},
{
"cell_type": "markdown",
"metadata": {
"id": "BGQUzcboeDHM"
},
"source": [
"# **Numbers**"
]
},
{
"cell_type": "markdown",
"metadata": {
"id": "aMHcu9z9eZC_"
},
"source": [
"\n",
"\n",
"> **Different type of numbers** :\n",
"\n",
"*   Integer : 2\n",
"*   Float : 2.0\n",
"*   Complex : 2 + 3i\n",
"\n",
"\n"
]
},
{
"cell_type": "markdown",
"metadata": {
"id": "qHQfXuLue7ol"
},
"source": [
"***Arithmetic Operators :***"
]
},
{
"cell_type": "code",
"metadata": {
"colab": {
"base_uri": "https://localhost:8080/"
},
"id": "haIeVyGQWwxs",
"outputId": "dd65f1a9-2c84-481e-af51-bae1cdc058ba"
},
"source": [
"1 + 1"
],
"execution_count": null,
"outputs": [
{
"output_type": "execute_result",
"data": {
"text/plain": [
"2"
]
},
"metadata": {},
"execution_count": 1
}
]
},
{
"cell_type": "code",
"metadata": {
"colab": {
"base_uri": "https://localhost:8080/"
},
"id": "IsOC4lVKfA5p",
"outputId": "750e2e0b-1082-43d4-ac9a-d5e46001e5a1"
},
"source": [
"2*5"
],
"execution_count": null,
"outputs": [
{
"output_type": "execute_result",
"data": {
"text/plain": [
"10"
]
},
"metadata": {},
"execution_count": 3
}
]
},
{
"cell_type": "code",
"metadata": {
"colab": {
"base_uri": "https://localhost:8080/"
},
"id": "vBriqnz7fLnT",
"outputId": "b2f94dde-cc72-44bf-84dc-4a6b571eb78a"
},
"source": [
"20 / 5"
],
"execution_count": null,
"outputs": [
{
"output_type": "execute_result",
"data": {
"text/plain": [
"4.0"
]
},
"metadata": {},
"execution_count": 4
}
]
},
{
"cell_type": "code",
"metadata": {
"colab": {
"base_uri": "https://localhost:8080/"
},
"id": "4fTW16ppfS2p",
"outputId": "4655ef30-eb27-47d1-e2c7-179d89465d00"
},
"source": [
"2 ** 4"
],
"execution_count": null,
"outputs": [
{
"output_type": "execute_result",
"data": {
"text/plain": [
"16"
]
},
"metadata": {},
"execution_count": 5
}
]
},
{
"cell_type": "code",
"metadata": {
"colab": {
"base_uri": "https://localhost:8080/"
},
"id": "Q7Rn-ajlfV92",
"outputId": "fa8bbd3e-56cd-4458-bac3-3e2f801192df"
},
"source": [
"2 + 5*7 + 1"
],
"execution_count": null,
"outputs": [
{
"output_type": "execute_result",
"data": {
"text/plain": [
"38"
]
},
"metadata": {},
"execution_count": 6
}
]
},
{
"cell_type": "code",
"metadata": {
"colab": {
"base_uri": "https://localhost:8080/"
},
"id": "CxEz_a3jfgc0",
"outputId": "cc242082-31a6-47d5-ef56-8e490d058c51"
},
"source": [
"10 % 3"
],
"execution_count": null,
"outputs": [
{
"output_type": "execute_result",
"data": {
"text/plain": [
"1"
]
},
"metadata": {},
"execution_count": 7
}
]
},
{
"cell_type": "markdown",
"metadata": {
"id": "BvQOFJ5m4UT8"
},
"source": [
"***Comparison Operators***"
]
},
{
"cell_type": "code",
"source": [
"1 = 2"
],
"metadata": {
"id": "08gPXse38Crz"
},
"execution_count": null,
"outputs": []
},
{
"cell_type": "code",
"metadata": {
"colab": {
"base_uri": "https://localhost:8080/"
},
"id": "Zz28C01M4CMj",
"outputId": "5f65c914-3bfd-456c-931d-1e2f2f98011c"
},
"source": [
"1 == 2"
],
"execution_count": null,
"outputs": [
{
"output_type": "execute_result",
"data": {
"text/plain": [
"False"
]
},
"metadata": {},
"execution_count": 3
}
]
},
{
"cell_type": "code",
"metadata": {
"colab": {
"base_uri": "https://localhost:8080/"
},
"id": "PxfE61Pj4FLs",
"outputId": "95c8642d-8e1f-4c1b-b914-fb64d9907fa2"
},
"source": [
"3 <= 6"
],
"execution_count": null,
"outputs": [
{
"output_type": "execute_result",
"data": {
"text/plain": [
"True"
]
},
"metadata": {},
"execution_count": 7
}
]
},
{
"cell_type": "code",
"metadata": {
"colab": {
"base_uri": "https://localhost:8080/"
},
"id": "YnD2B9Yj4Jgb",
"outputId": "4508383e-0764-4e7b-f470-024f894dffe3"
},
"source": [
"3 != 4"
],
"execution_count": null,
"outputs": [
{
"output_type": "execute_result",
"data": {
"text/plain": [
"True"
]
},
"metadata": {},
"execution_count": 8
}
]
},
{
"cell_type": "markdown",
"metadata": {
"id": "hEIefiTuh8Tl"
},
"source": [
"***Lets use variables !*** :"
]
},
{
"cell_type": "code",
"metadata": {
"id": "Nq1D0C7ff4IR"
},
"source": [
"a = 2"
],
"execution_count": null,
"outputs": []
},
{
"cell_type": "code",
"source": [
"a = 5"
],
"metadata": {
"id": "ITmF-a7C8qAT"
},
"execution_count": null,
"outputs": []
},
{
"cell_type": "code",
"source": [
"a"
],
"metadata": {
"colab": {
"base_uri": "https://localhost:8080/"
},
"id": "OSGw2DpnZ-iw",
"outputId": "98907e4a-f64c-4cc0-85e5-16f24289c8de"
},
"execution_count": null,
"outputs": [
{
"output_type": "execute_result",
"data": {
"text/plain": [
"2"
]
},
"metadata": {},
"execution_count": 6
}
]
},
{
"cell_type": "code",
"metadata": {
"colab": {
"base_uri": "https://localhost:8080/"
},
"id": "z7bgz17Wi2AK",
"outputId": "9699cf9a-e4f7-4bb1-8d4c-3e0c901a6838"
},
"source": [
"b = 3\n",
"c = 5\n",
"b + c"
],
"execution_count": null,
"outputs": [
{
"output_type": "execute_result",
"data": {
"text/plain": [
"8"
]
},
"metadata": {},
"execution_count": 9
}
]
},
{
"cell_type": "code",
"metadata": {
"colab": {
"base_uri": "https://localhost:8080/"
},
"id": "9DfPUdnjjBJb",
"outputId": "442317cb-04ff-42a3-8249-fef5e112dfef"
},
"source": [
"a = a + 6\n",
"a"
],
"execution_count": null,
"outputs": [
{
"output_type": "execute_result",
"data": {
"text/plain": [
"8"
]
},
"metadata": {},
"execution_count": 10
}
]
},
{
"cell_type": "markdown",
"metadata": {
"id": "d1TQgQo-ky0E"
},
"source": [
"# **Strings**"
]
},
{
"cell_type": "markdown",
"metadata": {
"id": "tWe2xdccmFAU"
},
"source": [
"همه چیز که عددها نیستن، گاهی لازمه با متن ها هم کار کنیم !\n"
]
},
{
"cell_type": "code",
"metadata": {
"colab": {
"base_uri": "https://localhost:8080/",
"height": 35
},
"id": "Yr8JZr1_jREu",
"outputId": "a9affd3c-ebf1-4414-de7e-b01968248e91"
},
"source": [
"\"Hi Friends !\""
],
"execution_count": null,
"outputs": [
{
"output_type": "execute_result",
"data": {
"text/plain": [
"'Hi Friends !'"
],
"application/vnd.google.colaboratory.intrinsic+json": {
"type": "string"
}
},
"metadata": {},
"execution_count": 8
}
]
},
{
"cell_type": "code",
"metadata": {
"colab": {
"base_uri": "https://localhost:8080/",
"height": 36
},
"id": "x8_rjmN_nS4K",
"outputId": "219ad099-e737-4327-fd0c-87859e6a08c7"
},
"source": [
" x = \"Hi Friends !\"\n",
" x"
],
"execution_count": null,
"outputs": [
{
"output_type": "execute_result",
"data": {
"application/vnd.google.colaboratory.intrinsic+json": {
"type": "string"
},
"text/plain": [
"'Hi Friends !'"
]
},
"metadata": {},
"execution_count": 12
}
]
},
{
"cell_type": "markdown",
"metadata": {
"id": "A0GOAoj5r1N7"
},
"source": [
"ولی بیاید یه خروجی قشنگ تر داشته باشیم :"
]
},
{
"cell_type": "code",
"source": [
"y = f(x)"
],
"metadata": {
"id": "dlkhGX2c9X1b"
},
"execution_count": null,
"outputs": []
},
{
"cell_type": "code",
"metadata": {
"colab": {
"base_uri": "https://localhost:8080/"
},
"id": "l9Pop0IToNJW",
"outputId": "8e1a6762-fcdc-44bd-bb07-bec75907ec73"
},
"source": [
"print (\"Hi Friends !\")"
],
"execution_count": null,
"outputs": [
{
"output_type": "stream",
"name": "stdout",
"text": [
"Hi Friends !\n"
]
}
]
},
{
"cell_type": "code",
"metadata": {
"colab": {
"base_uri": "https://localhost:8080/"
},
"id": "Uxx063ZRocPx",
"outputId": "e09b58c0-360d-408a-bdc7-66088b1e0f07"
},
"source": [
"print (x)"
],
"execution_count": null,
"outputs": [
{
"output_type": "stream",
"name": "stdout",
"text": [
"Hi Friends !\n"
]
}
]
},
{
"cell_type": "code",
"metadata": {
"id": "bMe2VDUHo7OR"
},
"source": [
"Name = \"Saba\"\n",
"Age = \"26\""
],
"execution_count": null,
"outputs": []
},
{
"cell_type": "code",
"metadata": {
"colab": {
"base_uri": "https://localhost:8080/",
"height": 36
},
"id": "pakZI2Uaqqw0",
"outputId": "32c74be3-651b-479d-e55e-a7ab574524c1"
},
"source": [
"'My name is {} and I am {} years old'.format(Name, Age)"
],
"execution_count": null,
"outputs": [
{
"output_type": "execute_result",
"data": {
"application/vnd.google.colaboratory.intrinsic+json": {
"type": "string"
},
"text/plain": [
"'My name is Saba and I am 26 years old'"
]
},
"metadata": {},
"execution_count": 17
}
]
},
{
"cell_type": "code",
"metadata": {
"colab": {
"base_uri": "https://localhost:8080/",
"height": 36
},
"id": "4EwmsNAKrIvL",
"outputId": "c60dae2d-2a27-4756-baec-93e2601c4bab"
},
"source": [
"'My name is {x} and I am {y} years old'.format(x = Name, y = Age)"
],
"execution_count": null,
"outputs": [
{
"output_type": "execute_result",
"data": {
"application/vnd.google.colaboratory.intrinsic+json": {
"type": "string"
},
"text/plain": [
"'My name is Saba and I am 26 years old'"
]
},
"metadata": {},
"execution_count": 18
}
]
},
{
"cell_type": "code",
"metadata": {
"colab": {
"base_uri": "https://localhost:8080/"
},
"id": "gL7Oa1Osrpcj",
"outputId": "6bb54b90-153d-4f0b-8b0c-846a3a6e7d57"
},
"source": [
"print('My name is {} and I am {} years old'.format(Name, Age))"
],
"execution_count": null,
"outputs": [
{
"output_type": "stream",
"name": "stdout",
"text": [
"My name is Saba and I am 26 years old\n"
]
}
]
},
{
"cell_type": "code",
"metadata": {
"colab": {
"base_uri": "https://localhost:8080/",
"height": 36
},
"id": "rH7Fs4cVrvBs",
"outputId": "848ed41a-13cd-46ad-92d3-c53b76d2d197"
},
"source": [
"X = \"abcdef\"\n",
"X [0]"
],
"execution_count": null,
"outputs": [
{
"output_type": "execute_result",
"data": {
"application/vnd.google.colaboratory.intrinsic+json": {
"type": "string"
},
"text/plain": [
"'a'"
]
},
"metadata": {},
"execution_count": 21
}
]
},
{
"cell_type": "code",
"metadata": {
"colab": {
"base_uri": "https://localhost:8080/",
"height": 36
},
"id": "102ZoE_qt31s",
"outputId": "42ba30a8-b76d-425e-9e68-11cb0634faad"
},
"source": [
"X [4:6]"
],
"execution_count": null,
"outputs": [
{
"output_type": "execute_result",
"data": {
"application/vnd.google.colaboratory.intrinsic+json": {
"type": "string"
},
"text/plain": [
"'ef'"
]
},
"metadata": {},
"execution_count": 22
}
]
},
{
"cell_type": "code",
"metadata": {
"colab": {
"base_uri": "https://localhost:8080/",
"height": 36
},
"id": "q13H7RZtt-Im",
"outputId": "93f2f802-525f-4db7-a639-175aa7f7b194"
},
"source": [
"X [4:]"
],
"execution_count": null,
"outputs": [
{
"output_type": "execute_result",
"data": {
"application/vnd.google.colaboratory.intrinsic+json": {
"type": "string"
},
"text/plain": [
"'ef'"
]
},
"metadata": {},
"execution_count": 23
}
]
},
{
"cell_type": "code",
"metadata": {
"colab": {
"base_uri": "https://localhost:8080/",
"height": 36
},
"id": "nYMAKLWQuBVt",
"outputId": "89e77517-6075-4191-d219-2b5914635a89"
},
"source": [
"X [:5]"
],
"execution_count": null,
"outputs": [
{
"output_type": "execute_result",
"data": {
"application/vnd.google.colaboratory.intrinsic+json": {
"type": "string"
},
"text/plain": [
"'abcde'"
]
},
"metadata": {},
"execution_count": 24
}
]
},
{
"cell_type": "markdown",
"metadata": {
"id": "HMZ2aN2d6Hkm"
},
"source": [
"# IF, Else, Elif"
]
},
{
"cell_type": "code",
"metadata": {
"colab": {
"base_uri": "https://localhost:8080/"
},
"id": "DkIKWpqE6NKl",
"outputId": "69f91840-4037-4c4b-f358-69df0a4b54bd"
},
"source": [
"# Example 1 _ if/else\n",
"\n",
"a = 20\n",
"b = 25\n",
"\n",
"if a > b :\n",
"  print (\"a is greater than b\")\n",
"\n",
"else :\n",
"  print (\"a is not greater than b\")"
],
"execution_count": null,
"outputs": [
{
"output_type": "stream",
"name": "stdout",
"text": [
"a is not greater than b\n"
]
}
]
},
{
"cell_type": "code",
"metadata": {
"colab": {
"base_uri": "https://localhost:8080/"
},
"id": "HIyFbVLW6d9a",
"outputId": "6ebbaf18-d8b1-463e-811a-311c1f2274c4"
},
"source": [
"#Example 2 _ if/elif/else\n",
"\n",
"a = int(input ('Enter your age :'))\n",
"\n",
"if a < 1 :\n",
"  print ('Wrong Answer')\n",
"\n",
"elif a < 20 :\n",
"  print ('You are a teenager')\n",
"\n",
"elif a < 30 :\n",
"  print ('You are young')\n",
"\n",
"elif a < 65 :\n",
"  print ('You are middle-aged')\n",
"\n",
"else :\n",
"  print ('You are old')"
],
"execution_count": null,
"outputs": [
{
"output_type": "stream",
"name": "stdout",
"text": [
"Enter your age :-5\n",
"Wrong Answer\n"
]
}
]
},
{
"cell_type": "code",
"source": [
"int(-1.75)"
],
"metadata": {
"colab": {
"base_uri": "https://localhost:8080/"
},
"id": "LARUDXsydUK5",
"outputId": "49fe3fc5-f05f-4c5d-e29b-c20ae24a1496"
},
"execution_count": null,
"outputs": [
{
"output_type": "execute_result",
"data": {
"text/plain": [
"-1"
]
},
"metadata": {},
"execution_count": 7
}
]
},
{
"cell_type": "markdown",
"metadata": {
"id": "NTL-udIz60Yi"
},
"source": [
"# **While**"
]
},
{
"cell_type": "code",
"metadata": {
"colab": {
"base_uri": "https://localhost:8080/"
},
"id": "B_k8EyII6iR3",
"outputId": "0a1351e3-da98-4024-e87f-5e82bae917da"
},
"source": [
"#Example  _ While\n",
"\n",
"count = 0\n",
"\n",
"while (count < 4) :\n",
"  print ('The count is :' , count )\n",
"  count =  count + 1\n",
"\n",
"print ('GoodBye !')"
],
"execution_count": null,
"outputs": [
{
"output_type": "stream",
"name": "stdout",
"text": [
"The count is : 0\n",
"The count is : 1\n",
"The count is : 2\n",
"The count is : 3\n",
"GoodBye !\n"
]
}
]
},
{
"cell_type": "code",
"metadata": {
"id": "Apm_6OXJ68T-"
},
"source": [
"# Example  _ While/else\n",
"\n",
"count = 0\n",
"\n",
"while (count < 4) :\n",
"  print ('The count is :' , count )\n",
"  count =  count + 1\n",
"\n",
"else :\n",
"  print (count , 'is not less than 4 !')"
],
"execution_count": null,
"outputs": []
},
{
"cell_type": "markdown",
"metadata": {
"id": "7-b2sANj7K9r"
},
"source": [
"# **For**"
]
},
{
"cell_type": "code",
"metadata": {
"colab": {
"base_uri": "https://localhost:8080/"
},
"id": "f7x1z1pi6_m1",
"outputId": "a1889e16-a63c-4d02-c9d8-437051139dd6"
},
"source": [
"#Example  _ For/break\n",
"\n",
"for letter in 'python' :\n",
"  if letter == 'h' :\n",
"    break\n",
"  print ('current letter is :' , letter)\n"
],
"execution_count": null,
"outputs": [
{
"output_type": "stream",
"name": "stdout",
"text": [
"current letter is : p\n",
"current letter is : y\n",
"current letter is : t\n"
]
}
]
},
{
"cell_type": "markdown",
"metadata": {
"id": "XXUFhwnk8h56"
},
"source": [
"# **More Examples**"
]
},
{
"cell_type": "code",
"metadata": {
"colab": {
"base_uri": "https://localhost:8080/"
},
"id": "vyjMmtfj7OeE",
"outputId": "cec66595-78fa-4696-b02f-ac3a268ebddd"
},
"source": [
"#Example  _ triangle type detection\n",
"\n",
"print(\"Input lengths of the triangle sides: \")\n",
"x = int (input(\"x :\"))\n",
"y = int (input(\"y :\"))\n",
"z = int (input(\"z :\"))\n",
"\n",
"if x == y == z :\n",
"  print (\"Equilateral triangle\")\n",
"\n",
"elif x == y or y == z or z==x :\n",
"  print (\"isosceles triangle\")\n",
"\n",
"else :\n",
"  print ('Scalene triangle')"
],
"execution_count": null,
"outputs": [
{
"output_type": "stream",
"name": "stdout",
"text": [
"Input lengths of the triangle sides: \n",
"x :2\n",
"y :5\n",
"z :8\n",
"Scalene triangle\n"
]
}
]
},
{
"cell_type": "code",
"metadata": {
"id": "lyTLRtOa8pVA",
"colab": {
"base_uri": "https://localhost:8080/"
},
"outputId": "346900dc-3f4c-4d1c-f794-780565b06ea0"
},
"source": [
"#Example 2 _ Print Prime numbers\n",
"\n",
"start = int (input(\"start :\"))\n",
"end = int (input(\"end :\"))\n",
"\n",
"print(\"Prime numbers between\", start, \"and\", end, \"are:\")\n",
"\n",
"for num in range(start, end + 1):\n",
"    # all prime numbers are greater than 1\n",
"    # if number is less than or equal to 1, it is not prime\n",
"    if num > 1:\n",
"        for i in range(2, num):\n",
"            # check for factors\n",
"            if (num % i) == 0:\n",
"                # not a prime number so break inner loop and\n",
"                # look for next number\n",
"                break\n",
"        else:\n",
"          print(num)"
],
"execution_count": null,
"outputs": [
{
"output_type": "stream",
"name": "stdout",
"text": [
"start :25\n",
"end :10\n",
"Prime numbers between 25 and 10 are:\n"
]
}
]
},
{
"cell_type": "code",
"metadata": {
"colab": {
"base_uri": "https://localhost:8080/"
},
"id": "AQVr5EyZ8uxL",
"outputId": "9d83f0dd-ab3e-42eb-f149-bf93bc10d361"
},
"source": [
"#Example 5 (second version)\n",
"\n",
"start = int (input(\"start :\"))\n",
"end = int (input(\"end :\"))\n",
"\n",
"print(\"Prime numbers between\", start, \"and\", end, \"are:\")\n",
"\n",
"for num in range(start, end + 1):\n",
"\n",
"    if num > 1:\n",
"\n",
"      count = 0\n",
"      for i in range(2, num):\n",
"        if (num % i) == 0:\n",
"          count += 1\n",
"\n",
"      if count == 0 :\n",
"        print(num)"
],
"execution_count": null,
"outputs": [
{
"output_type": "stream",
"name": "stdout",
"text": [
"start :2\n",
"end :20\n",
"Prime numbers between 2 and 20 are:\n",
"2\n",
"3\n",
"5\n",
"7\n",
"11\n",
"13\n",
"17\n",
"19\n"
]
}
]
}
]
}