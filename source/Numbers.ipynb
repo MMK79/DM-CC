{
"nbformat": 4,
"nbformat_minor": 0,
"metadata": {
"colab": {
"provenance": []
},
"kernelspec": {
"name": "python3",
"display_name": "Python 3"
},
"language_info": {
"name": "python"
}
},
"cells": [
{
"cell_type": "code",
"metadata": {
"id": "hlNxTUpxNqW2"
},
"source": [
"# Integer\n",
"# Float\n",
"# Complex"
],
"execution_count": null,
"outputs": []
},
{
"cell_type": "code",
"metadata": {
"id": "mlCyGSiXOFWg"
},
"source": [
"# Integer\n",
"a = 16\n",
"\n",
"# Float\n",
"b = 10.05\n",
"\n",
"# Complex\n",
"c = 3.12j"
],
"execution_count": null,
"outputs": []
},
{
"cell_type": "code",
"metadata": {
"colab": {
"base_uri": "https://localhost:8080/"
},
"id": "1Kh--OxUOWyI",
"outputId": "245f8c6c-88b1-4efa-826c-78ebd3773cb5"
},
"source": [
"# Comvert to int\n",
"\n",
"x = 1.12\n",
"print (  \"int (x) = \" ,int (x))\n",
"\n",
"y = 1.89\n",
"print (  \"int (y) = \" ,int (y))"
],
"execution_count": null,
"outputs": [
{
"output_type": "stream",
"text": [
"int (x) =  1\n",
"int (y) =  1\n"
],
"name": "stdout"
}
]
},
{
"cell_type": "code",
"metadata": {
"colab": {
"base_uri": "https://localhost:8080/"
},
"id": "2GhqTNE-Op2H",
"outputId": "a9ecaee2-013a-4192-dd17-50bec261300a"
},
"source": [
"a = \"2\"\n",
"type (a)"
],
"execution_count": null,
"outputs": [
{
"output_type": "execute_result",
"data": {
"text/plain": [
"str"
]
},
"metadata": {
"tags": []
},
"execution_count": 7
}
]
},
{
"cell_type": "code",
"metadata": {
"colab": {
"base_uri": "https://localhost:8080/"
},
"id": "bCSXp8iFPw-1",
"outputId": "6e3286cc-32e1-44c2-f301-794b5f78bc3e"
},
"source": [
"int(a)"
],
"execution_count": null,
"outputs": [
{
"output_type": "execute_result",
"data": {
"text/plain": [
"2"
]
},
"metadata": {
"tags": []
},
"execution_count": 8
}
]
},
{
"cell_type": "code",
"metadata": {
"colab": {
"base_uri": "https://localhost:8080/"
},
"id": "zjC8HVEIP-fR",
"outputId": "a045091b-d03f-46b2-de20-ff0937309084"
},
"source": [
"type (a)"
],
"execution_count": null,
"outputs": [
{
"output_type": "execute_result",
"data": {
"text/plain": [
"str"
]
},
"metadata": {
"tags": []
},
"execution_count": 9
}
]
},
{
"cell_type": "code",
"metadata": {
"colab": {
"base_uri": "https://localhost:8080/"
},
"id": "hOyG8iNeQEGn",
"outputId": "65ef4037-000a-43e3-ae8f-a978715db984"
},
"source": [
"a = int(a)\n",
"type(a)"
],
"execution_count": null,
"outputs": [
{
"output_type": "execute_result",
"data": {
"text/plain": [
"int"
]
},
"metadata": {
"tags": []
},
"execution_count": 10
}
]
},
{
"cell_type": "code",
"metadata": {
"colab": {
"base_uri": "https://localhost:8080/"
},
"id": "5-YP0nhjQLPt",
"outputId": "30cd06a2-5981-47d8-dd6f-977810557d7f"
},
"source": [
"a + 2"
],
"execution_count": null,
"outputs": [
{
"output_type": "execute_result",
"data": {
"text/plain": [
"4"
]
},
"metadata": {
"tags": []
},
"execution_count": 11
}
]
},
{
"cell_type": "code",
"metadata": {
"colab": {
"base_uri": "https://localhost:8080/"
},
"id": "bi2RPDZIQM3O",
"outputId": "c005ae90-8ce7-46fd-b986-2ccd29e9cdc7"
},
"source": [
"# convert to float\n",
"x = 12\n",
"float (x)"
],
"execution_count": null,
"outputs": [
{
"output_type": "execute_result",
"data": {
"text/plain": [
"12.0"
]
},
"metadata": {
"tags": []
},
"execution_count": 12
}
]
},
{
"cell_type": "markdown",
"metadata": {
"id": "2JH70sZFRRzj"
},
"source": [
"Importat Function"
]
},
{
"cell_type": "code",
"metadata": {
"colab": {
"base_uri": "https://localhost:8080/"
},
"id": "QKO5ntvyRF6J",
"outputId": "502425d2-e369-4886-aa5c-51b3e29403b6"
},
"source": [
"# Absolute value\n",
"a = -3\n",
"abs(a)"
],
"execution_count": null,
"outputs": [
{
"output_type": "execute_result",
"data": {
"text/plain": [
"3"
]
},
"metadata": {
"tags": []
},
"execution_count": 13
}
]
},
{
"cell_type": "code",
"metadata": {
"colab": {
"base_uri": "https://localhost:8080/"
},
"id": "O4vkpylaRkom",
"outputId": "84cc0837-e2aa-4b90-c897-a4d861efcf0d"
},
"source": [
"import math\n",
"dir (math)"
],
"execution_count": null,
"outputs": [
{
"output_type": "execute_result",
"data": {
"text/plain": [
"['__doc__',\n",
" '__loader__',\n",
" '__name__',\n",
" '__package__',\n",
" '__spec__',\n",
" 'acos',\n",
" 'acosh',\n",
" 'asin',\n",
" 'asinh',\n",
" 'atan',\n",
" 'atan2',\n",
" 'atanh',\n",
" 'ceil',\n",
" 'copysign',\n",
" 'cos',\n",
" 'cosh',\n",
" 'degrees',\n",
" 'e',\n",
" 'erf',\n",
" 'erfc',\n",
" 'exp',\n",
" 'expm1',\n",
" 'fabs',\n",
" 'factorial',\n",
" 'floor',\n",
" 'fmod',\n",
" 'frexp',\n",
" 'fsum',\n",
" 'gamma',\n",
" 'gcd',\n",
" 'hypot',\n",
" 'inf',\n",
" 'isclose',\n",
" 'isfinite',\n",
" 'isinf',\n",
" 'isnan',\n",
" 'ldexp',\n",
" 'lgamma',\n",
" 'log',\n",
" 'log10',\n",
" 'log1p',\n",
" 'log2',\n",
" 'modf',\n",
" 'nan',\n",
" 'pi',\n",
" 'pow',\n",
" 'radians',\n",
" 'remainder',\n",
" 'sin',\n",
" 'sinh',\n",
" 'sqrt',\n",
" 'tan',\n",
" 'tanh',\n",
" 'tau',\n",
" 'trunc']"
]
},
"metadata": {
"tags": []
},
"execution_count": 15
}
]
},
{
"cell_type": "code",
"metadata": {
"colab": {
"base_uri": "https://localhost:8080/"
},
"id": "0zPSF6_SSBoQ",
"outputId": "d9db55d4-e29a-43eb-e46e-058728012938"
},
"source": [
"# Ceiling\n",
"\n",
"a = 2.84\n",
"math.ceil (a)"
],
"execution_count": null,
"outputs": [
{
"output_type": "execute_result",
"data": {
"text/plain": [
"3"
]
},
"metadata": {
"tags": []
},
"execution_count": 16
}
]
},
{
"cell_type": "code",
"metadata": {
"colab": {
"base_uri": "https://localhost:8080/"
},
"id": "jShvPg04SxJ_",
"outputId": "4605e4e5-5297-4e69-b8a6-3cbad7e7f713"
},
"source": [
"# Floor\n",
"\n",
"a = 2.58\n",
"math.floor (a)"
],
"execution_count": null,
"outputs": [
{
"output_type": "execute_result",
"data": {
"text/plain": [
"2"
]
},
"metadata": {
"tags": []
},
"execution_count": 17
}
]
},
{
"cell_type": "code",
"metadata": {
"colab": {
"base_uri": "https://localhost:8080/"
},
"id": "CIrZFhc2S9xb",
"outputId": "9e7dfab4-6c06-4fce-810d-a90491b4e7fe"
},
"source": [
"# Power\n",
"\n",
"a = 2\n",
"b = 5\n",
"pow (a , b)"
],
"execution_count": null,
"outputs": [
{
"output_type": "execute_result",
"data": {
"text/plain": [
"32"
]
},
"metadata": {
"tags": []
},
"execution_count": 19
}
]
},
{
"cell_type": "code",
"metadata": {
"id": "l39xJm7PT-t2"
},
"source": [],
"execution_count": null,
"outputs": []
}
]
}