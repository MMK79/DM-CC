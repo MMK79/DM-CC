{
"nbformat": 4,
"nbformat_minor": 0,
"metadata": {
"colab": {
"provenance": []
},
"kernelspec": {
"name": "python3",
"display_name": "Python 3"
},
"language_info": {
"name": "python"
}
},
"cells": [
{
"cell_type": "code",
"metadata": {
"id": "hNe-nU1pTtu6"
},
"source": [
"a = \"Hello\"\n",
"b = \"Python\""
],
"execution_count": null,
"outputs": []
},
{
"cell_type": "code",
"metadata": {
"colab": {
"base_uri": "https://localhost:8080/",
"height": 35
},
"id": "541FKw2oUepP",
"outputId": "1db09961-3f96-40f4-8984-d8738cc81f7d"
},
"source": [
"# Concatination\n",
"\n",
"c = a + \" \" + b\n",
"c"
],
"execution_count": null,
"outputs": [
{
"output_type": "execute_result",
"data": {
"application/vnd.google.colaboratory.intrinsic+json": {
"type": "string"
},
"text/plain": [
"'Hello Python'"
]
},
"metadata": {
"tags": []
},
"execution_count": 4
}
]
},
{
"cell_type": "code",
"metadata": {
"colab": {
"base_uri": "https://localhost:8080/",
"height": 35
},
"id": "WXYykiFmU7eS",
"outputId": "007fb79c-4312-44b3-fa61-6aba5ddb38f1"
},
"source": [
"# Repeatation\n",
"\n",
"d = a * 2\n",
"d"
],
"execution_count": null,
"outputs": [
{
"output_type": "execute_result",
"data": {
"application/vnd.google.colaboratory.intrinsic+json": {
"type": "string"
},
"text/plain": [
"'HelloHello'"
]
},
"metadata": {
"tags": []
},
"execution_count": 6
}
]
},
{
"cell_type": "code",
"metadata": {
"id": "AiTdKYYOVDP7"
},
"source": [
"# index\n",
"\n",
"# 0 1 2 3 4 5 6 7\n",
"# -8 -7 -6 -5 -4 -3 -2 -1"
],
"execution_count": null,
"outputs": []
},
{
"cell_type": "code",
"metadata": {
"colab": {
"base_uri": "https://localhost:8080/",
"height": 35
},
"id": "LJjaJ8M6Wk8J",
"outputId": "c2db4eb5-fa48-4e17-d895-1c8cdf81c225"
},
"source": [
"c"
],
"execution_count": null,
"outputs": [
{
"output_type": "execute_result",
"data": {
"application/vnd.google.colaboratory.intrinsic+json": {
"type": "string"
},
"text/plain": [
"'Hello Python'"
]
},
"metadata": {
"tags": []
},
"execution_count": 13
}
]
},
{
"cell_type": "code",
"metadata": {
"colab": {
"base_uri": "https://localhost:8080/",
"height": 35
},
"id": "Sh8GeD4TV1fL",
"outputId": "a5ca5973-65fe-4d0a-8ce2-af8e9937b061"
},
"source": [
"# Slice\n",
"\n",
"c [0]"
],
"execution_count": null,
"outputs": [
{
"output_type": "execute_result",
"data": {
"application/vnd.google.colaboratory.intrinsic+json": {
"type": "string"
},
"text/plain": [
"'H'"
]
},
"metadata": {
"tags": []
},
"execution_count": 11
}
]
},
{
"cell_type": "code",
"metadata": {
"colab": {
"base_uri": "https://localhost:8080/",
"height": 35
},
"id": "xOQG96pKWJvE",
"outputId": "2b1fb4d7-811c-477a-9e76-85cf6add130b"
},
"source": [
"c [-1]"
],
"execution_count": null,
"outputs": [
{
"output_type": "execute_result",
"data": {
"application/vnd.google.colaboratory.intrinsic+json": {
"type": "string"
},
"text/plain": [
"'n'"
]
},
"metadata": {
"tags": []
},
"execution_count": 12
}
]
},
{
"cell_type": "code",
"metadata": {
"colab": {
"base_uri": "https://localhost:8080/"
},
"id": "Jv8dey4OWp4w",
"outputId": "008a9a9f-2458-4e73-ff0f-1f677a008599"
},
"source": [
"# Range Slice\n",
"\n",
"print( c[0:4] )\n",
"print ( c[-6:-1] )\n",
"print ( c[-6:] )\n",
"print( c[:4] )"
],
"execution_count": null,
"outputs": [
{
"output_type": "stream",
"text": [
"Hell\n",
"Pytho\n",
"Python\n",
"Hell\n"
],
"name": "stdout"
}
]
},
{
"cell_type": "code",
"metadata": {
"colab": {
"base_uri": "https://localhost:8080/"
},
"id": "4l1QSV0WXTTP",
"outputId": "05c9e2cd-f52d-410d-a448-61bdeb56bb85"
},
"source": [
"# Membership\n",
"\n",
"print (\"H\" in a)\n",
"print (\"H\" not in a)"
],
"execution_count": null,
"outputs": [
{
"output_type": "stream",
"text": [
"True\n",
"False\n"
],
"name": "stdout"
}
]
},
{
"cell_type": "code",
"metadata": {
"colab": {
"base_uri": "https://localhost:8080/",
"height": 35
},
"id": "RYK2Oz1yZCYo",
"outputId": "8a232d7c-68bb-4a1c-b20b-982e7b0fec71"
},
"source": [
"#join\n",
"\n",
"a = \"Hello\"\n",
"b = \"Python\"\n",
"c = \"!\"\n",
"sequence = [a , b , c]\n",
"#sequence = (a , b)\n",
"#sequence = {a , b}\n",
"\n",
"\"_\".join(sequence)"
],
"execution_count": null,
"outputs": [
{
"output_type": "execute_result",
"data": {
"application/vnd.google.colaboratory.intrinsic+json": {
"type": "string"
},
"text/plain": [
"'Hello_Python_!'"
]
},
"metadata": {
"tags": []
},
"execution_count": 32
}
]
},
{
"cell_type": "code",
"metadata": {
"colab": {
"base_uri": "https://localhost:8080/"
},
"id": "mGKmQJ_lZOu0",
"outputId": "5fc29333-763d-46a8-9bb3-b1c1bafd3cd3"
},
"source": [
"# len\n",
"\n",
"len (c)"
],
"execution_count": null,
"outputs": [
{
"output_type": "execute_result",
"data": {
"text/plain": [
"12"
]
},
"metadata": {
"tags": []
},
"execution_count": 24
}
]
},
{
"cell_type": "code",
"metadata": {
"colab": {
"base_uri": "https://localhost:8080/",
"height": 35
},
"id": "9KGRlLSUZmwO",
"outputId": "4fd3e6e7-3bc5-4484-bacb-28945ebb2fe5"
},
"source": [
"a"
],
"execution_count": null,
"outputs": [
{
"output_type": "execute_result",
"data": {
"application/vnd.google.colaboratory.intrinsic+json": {
"type": "string"
},
"text/plain": [
"'Hello'"
]
},
"metadata": {
"tags": []
},
"execution_count": 25
}
]
},
{
"cell_type": "code",
"metadata": {
"colab": {
"base_uri": "https://localhost:8080/",
"height": 35
},
"id": "gelrxsuKZTgS",
"outputId": "5b09633d-7ffd-4a23-ed30-dd9726eebffd"
},
"source": [
"# replace\n",
"\n",
"a.replace(\"o\" , \"\")"
],
"execution_count": null,
"outputs": [
{
"output_type": "execute_result",
"data": {
"application/vnd.google.colaboratory.intrinsic+json": {
"type": "string"
},
"text/plain": [
"'Hell'"
]
},
"metadata": {
"tags": []
},
"execution_count": 26
}
]
},
{
"cell_type": "code",
"metadata": {
"colab": {
"base_uri": "https://localhost:8080/",
"height": 35
},
"id": "AVxdLuemaSlm",
"outputId": "2dc94f2a-768a-4589-de54-6db9b9b32253"
},
"source": [
"a"
],
"execution_count": null,
"outputs": [
{
"output_type": "execute_result",
"data": {
"application/vnd.google.colaboratory.intrinsic+json": {
"type": "string"
},
"text/plain": [
"'Hello'"
]
},
"metadata": {
"tags": []
},
"execution_count": 27
}
]
},
{
"cell_type": "code",
"metadata": {
"colab": {
"base_uri": "https://localhost:8080/",
"height": 35
},
"id": "gTs03MHKaVYJ",
"outputId": "ad3b4063-5a9a-4a23-f78d-bfef3ad796ef"
},
"source": [
"a.replace(\"e\" , \"a\")"
],
"execution_count": null,
"outputs": [
{
"output_type": "execute_result",
"data": {
"application/vnd.google.colaboratory.intrinsic+json": {
"type": "string"
},
"text/plain": [
"'Hallo'"
]
},
"metadata": {
"tags": []
},
"execution_count": 28
}
]
},
{
"cell_type": "code",
"metadata": {
"colab": {
"base_uri": "https://localhost:8080/",
"height": 35
},
"id": "lGuHYqgQaecQ",
"outputId": "5e0ad748-c58e-4aa8-d364-ed9eaf7ccb25"
},
"source": [
"a.replace(\"o\" , \"oOo\")"
],
"execution_count": null,
"outputs": [
{
"output_type": "execute_result",
"data": {
"application/vnd.google.colaboratory.intrinsic+json": {
"type": "string"
},
"text/plain": [
"'HelloOo'"
]
},
"metadata": {
"tags": []
},
"execution_count": 29
}
]
},
{
"cell_type": "code",
"metadata": {
"colab": {
"base_uri": "https://localhost:8080/",
"height": 35
},
"id": "bz1PDz57ax8B",
"outputId": "4c0adb88-6bc8-48cf-e594-1cded17fc0c9"
},
"source": [
"a.replace(\"l\", \"\")"
],
"execution_count": null,
"outputs": [
{
"output_type": "execute_result",
"data": {
"application/vnd.google.colaboratory.intrinsic+json": {
"type": "string"
},
"text/plain": [
"'Heo'"
]
},
"metadata": {
"tags": []
},
"execution_count": 30
}
]
},
{
"cell_type": "code",
"metadata": {
"colab": {
"base_uri": "https://localhost:8080/"
},
"id": "Dxoy28c3aivz",
"outputId": "3fb98d24-d8f9-4483-fd06-978630a9759e"
},
"source": [
"# Split\n",
"\n",
"S = \"Hello_Python_2\"\n",
"S.split (\"_\")"
],
"execution_count": null,
"outputs": [
{
"output_type": "execute_result",
"data": {
"text/plain": [
"['Hello', 'Python', '2']"
]
},
"metadata": {
"tags": []
},
"execution_count": 33
}
]
},
{
"cell_type": "code",
"metadata": {
"colab": {
"base_uri": "https://localhost:8080/"
},
"id": "3GS93GWAtquQ",
"outputId": "a0f5cc7d-49be-49ab-8180-dea368ef0b19"
},
"source": [
"SS = \"Hello_Python_2\"\n",
"tuple (SS.split (\"_\"))"
],
"execution_count": null,
"outputs": [
{
"output_type": "execute_result",
"data": {
"text/plain": [
"('Hello', 'Python', '2')"
]
},
"metadata": {
"tags": []
},
"execution_count": 34
}
]
},
{
"cell_type": "code",
"metadata": {
"id": "EelvG-7xt887"
},
"source": [],
"execution_count": null,
"outputs": []
}
]
}