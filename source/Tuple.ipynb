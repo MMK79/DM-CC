
{
"nbformat": 4,
"nbformat_minor": 0,
"metadata": {
"colab": {
"provenance": []
},
"kernelspec": {
"name": "python3",
"display_name": "Python 3"
},
"language_info": {
"name": "python"
}
},
"cells": [
{
"cell_type": "code",
"metadata": {
"id": "y-6MgNYlp2sV"
},
"source": [
"A = ('Physics', 'Chemistry', 1997, 152)\n",
"B = (1,2,3,4,5)"
],
"execution_count": null,
"outputs": []
},
{
"cell_type": "code",
"metadata": {
"id": "Do-r97HBqVgE"
},
"source": [
"# index\n",
"\n",
"# 0 1 2 3 4 5 6 7\n",
"# -8 -7 -6 -5 -4 -3 -2 -1"
],
"execution_count": null,
"outputs": []
},
{
"cell_type": "code",
"metadata": {
"colab": {
"base_uri": "https://localhost:8080/"
},
"id": "db1oLqfJqa0i",
"outputId": "7f82e8ce-366a-4c92-c629-ede69318e430"
},
"source": [
"# Slicing\n",
"\n",
"print (A [0])\n",
"print (A [-3 :])"
],
"execution_count": null,
"outputs": [
{
"output_type": "stream",
"text": [
"Physics\n",
"('Chemistry', 1997, 152)\n"
],
"name": "stdout"
}
]
},
{
"cell_type": "code",
"metadata": {
"id": "9DGH-kKZqq5S"
},
"source": [
"# Updating\n",
"\n",
"# X"
],
"execution_count": null,
"outputs": []
},
{
"cell_type": "code",
"metadata": {
"colab": {
"base_uri": "https://localhost:8080/"
},
"id": "hhE84LWXq0uA",
"outputId": "2c4ddd28-281c-44d0-b90e-d264991c0077"
},
"source": [
"# len\n",
"len(A)"
],
"execution_count": null,
"outputs": [
{
"output_type": "execute_result",
"data": {
"text/plain": [
"4"
]
},
"metadata": {
"tags": []
},
"execution_count": 7
}
]
},
{
"cell_type": "code",
"metadata": {
"colab": {
"base_uri": "https://localhost:8080/"
},
"id": "v_ok_Jlbq5Iy",
"outputId": "c75fc142-ce78-4134-d899-d551bfadb394"
},
"source": [
"# Convert to tuple\n",
"\n",
"c = [1, 2, 3]\n",
"c = tuple (c)\n",
"c"
],
"execution_count": null,
"outputs": [
{
"output_type": "execute_result",
"data": {
"text/plain": [
"(1, 2, 3)"
]
},
"metadata": {
"tags": []
},
"execution_count": 11
}
]
},
{
"cell_type": "code",
"metadata": {
"id": "ALxpk6pqrE4o"
},
"source": [],
"execution_count": null,
"outputs": []
}
]
}