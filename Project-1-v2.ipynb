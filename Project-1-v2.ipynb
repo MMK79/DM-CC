{
 "cells": [
  {
   "cell_type": "markdown",
   "metadata": {},
   "source": [
    "# Data Cleaning + Data Frame\n"
   ]
  },
  {
   "cell_type": "code",
   "execution_count": null,
   "metadata": {},
   "outputs": [],
   "source": [
    "import pandas as pd\n",
    "\n",
    "df = pd.read_excel('Real Data.xlsx')\n",
    "# Shape is an attribute Not Method so No parentheses after shape\n",
    "\n",
    "# print(df.head())\n",
    "print(df.shape)\n",
    "print(df.info())\n"
   ]
  },
  {
   "cell_type": "code",
   "execution_count": null,
   "metadata": {},
   "outputs": [],
   "source": [
    "import pandas as pd\n",
    "\n",
    "# Load the Data Set\n",
    "# raw string literals treat backslashes (\\) as literal characters --> r\n",
    "file_path = r'C:\\Users\\Masuod\\Desktop\\Exercise\\Data Mining\\1\\Real Data.xlsx'\n",
    "df = pd.read_excel(file_path)\n",
    "\n",
    "# print(df.head())\n",
    "\n",
    "# Rename Coluumns\n",
    "new_column = ['Student Number', 'Gender', 'Age', 'Rent/Own House', 'Family Size', 'Parental Cohabitation', 'Mother Education', 'Father Education', 'Mother Occupation', 'Father Occupation', 'School Choice Reason', 'Commute Time', 'Weekly Study Time', 'Guardian', 'Past Class Failure', 'Extra Academic Class', 'Extra-Curricular Activities', 'Preschool', 'Desire for Higher Education', 'Family Relationship Quality', 'Free Time After School', 'Time Spent with Friends', 'Health Status', 'Absenteeism', 'First Grade', 'Second Grade', 'Final Grade']\n",
    "df.columns = new_column\n",
    "\n",
    "# Save to New file\n",
    "new_file_path = r'C:\\Users\\Masuod\\Desktop\\Exercise\\Data Mining\\1\\Modified_Data.xlsx'\n",
    "df.to_excel(new_file_path, index=False)\n",
    "\n",
    "# print(df.head())\n",
    "\n"
   ]
  },
  {
   "cell_type": "code",
   "execution_count": null,
   "metadata": {},
   "outputs": [],
   "source": [
    "# List of columns to Delete\n",
    "columns_to_delete = ['Gender', 'Age', 'Rent/Own House', 'Family Size', 'Parental Cohabitation', 'Mother Education', 'Father Education', 'Past Class Failure', 'Preschool', 'Desire for Higher Education', 'Family Relationship Quality', 'Health Status', 'Absenteeism']\n",
    "\n",
    "# Drop the specified columns\n",
    "# axis=1 means this will happen on columns axis=0 mean rows\n",
    "df_modified = df.drop(columns=columns_to_delete, axis=1)\n",
    "\n",
    "# Keep that in mind that if the file is in use you will get an error\n",
    "df_modified.to_excel(new_file_path, index=False)"
   ]
  },
  {
   "cell_type": "code",
   "execution_count": null,
   "metadata": {},
   "outputs": [],
   "source": [
    "df = pd.read_excel(new_file_path)\n",
    "\n",
    "print(df.shape)\n",
    "print(type(df.shape))\n",
    "\n",
    "print(df.columns)\n",
    "print(len(df.columns))"
   ]
  },
  {
   "cell_type": "code",
   "execution_count": null,
   "metadata": {},
   "outputs": [],
   "source": [
    "for i in range(0,len(df.columns)):\n",
    "    columns_number = i\n",
    "    columns_name = df.columns[columns_number]\n",
    "    unique_values = df.iloc[:, i].unique()\n",
    "    print(f\"unique values for {columns_name} = {unique_values} \")\n",
    "    i += 1"
   ]
  },
  {
   "cell_type": "code",
   "execution_count": null,
   "metadata": {},
   "outputs": [],
   "source": [
    "# print(df['Student Number'].unique())\n",
    "\n",
    "print(type(df['Student Number']))\n",
    "\n",
    "df['Studnet Number'] = df['Student Number'].astype(str)\n",
    "\n",
    "print(type(df['Student Number']))\n",
    "\n",
    "print(df.iloc[0, 0])\n",
    "print(type(df.iloc[0, 0]))\n",
    "\n",
    "i = df.iloc[0, 0]\n",
    "print(i)\n",
    "print(type(i))\n",
    "\n",
    "print(len(df.iloc[:, 0]))\n",
    "\n",
    "# df['Studnet Number'] = df['Studnet Number'].astype(str)\n",
    "# mapping_dict = {str(num): f\"student_{num}\" for num in range(1, len(df.iloc[:, 0])+1)}\n",
    "# # print(mapping_dict)\n",
    "# df['Studnet Number'] = df['Studnet Number'].map(mapping_dict)\n",
    "# print(df['Studnet Number'])"
   ]
  },
  {
   "cell_type": "code",
   "execution_count": null,
   "metadata": {},
   "outputs": [],
   "source": [
    "# Before Cleaning\n",
    "print(df['Mother Occupation'].unique())"
   ]
  },
  {
   "cell_type": "code",
   "execution_count": null,
   "metadata": {},
   "outputs": [],
   "source": [
    "# Clean column\n",
    "df['Mother Occupation'] = df['Mother Occupation'].str.lower().str.strip()\n",
    "\n",
    "# Define mappings for automatic corrections base on the unique values\n",
    "occupation_mapping = {\n",
    "    'otherr': 'other',\n",
    "    'others': 'other',\n",
    "    '': 'other'\n",
    "}\n",
    "\n",
    "# Apply automatic corrections based on mappings\n",
    "df['Mother Occupation'] = df['Mother Occupation'].replace(occupation_mapping)\n",
    "\n",
    "# Find rows with invalid values\n",
    "invalid_rows = df[~df['Mother Occupation'].isin(['at_home', 'health', 'other', 'services', 'teacher'])]\n",
    "\n",
    "# Dictionary to store changes\n",
    "changes = {}\n",
    "\n",
    "# Iterate through invalid rows and prompt user for replacement\n",
    "for index, row in invalid_rows.iterrows():\n",
    "    current_value = row['Mother Occupation']\n",
    "    print(f\"Invalid value found in row {index}: {current_value}\")\n",
    "    print(\"Valid values are: 'at_home', 'health', 'other', 'services', 'teacher'\")\n",
    "    new_value = input(\"Enter a valid occupation: \")\n",
    "    df.at[index, 'Mother Occupation'] = new_value\n",
    "    changes[index] = {'old_value': current_value, 'new_value': new_value}\n",
    "\n",
    "# Save changes to the original file\n",
    "df.to_excel(new_file_path, index=False)\n",
    "\n",
    "# Save changes to a separate log file\n",
    "# log_file_path = r'C:\\Users\\Masuod\\Desktop\\Exercise\\Data Mining\\1\\Mother_Occupation_Change_log.xlsx'\n",
    "# change_df = pd.DataFrame(changes).T\n",
    "# change_df.to_excel(log_file_path)\n"
   ]
  },
  {
   "cell_type": "code",
   "execution_count": null,
   "metadata": {},
   "outputs": [],
   "source": [
    "# After Cleaning\n",
    "print(df['Mother Occupation'].unique())"
   ]
  },
  {
   "cell_type": "code",
   "execution_count": null,
   "metadata": {},
   "outputs": [],
   "source": [
    "# Before Cleaning\n",
    "print(df['Father Occupation'].unique())"
   ]
  },
  {
   "cell_type": "code",
   "execution_count": null,
   "metadata": {},
   "outputs": [],
   "source": [
    "# Clean column\n",
    "df['Father Occupation'] = df['Father Occupation'].str.lower().str.strip()\n",
    "\n",
    "# Define mappings for automatic corrections base on the unique values\n",
    "occupation_mapping = {\n",
    "    'others': 'other',\n",
    "    'استاد دانشگاه': 'teacher',\n",
    "    'بازنشسته': 'other',\n",
    "    'معلم خصوصی': 'teacher',\n",
    "    '\"at_home\"': 'at_home',\n",
    "    'teacherr': 'teacher',\n",
    "    'at home': 'at_home',\n",
    "    'athom' :'other',\n",
    "}\n",
    "\n",
    "# Apply automatic corrections based on mappings\n",
    "df['Father Occupation'] = df['Father Occupation'].replace(occupation_mapping)\n",
    "\n",
    "# Find rows with invalid values\n",
    "invalid_rows = df[~df['Father Occupation'].isin(['at_home', 'health', 'other', 'services', 'teacher'])]\n",
    "\n",
    "# Dictionary to store changes\n",
    "changes = {}\n",
    "\n",
    "# Iterate through invalid rows and prompt user for replacement\n",
    "for index, row in invalid_rows.iterrows():\n",
    "    current_value = row['Father Occupation']\n",
    "    print(f\"Invalid value found in row {index}: {current_value}\")\n",
    "    print(\"Valid values are: 'at_home', 'health', 'other', 'services', 'teacher'\")\n",
    "    new_value = input(\"Enter a valid occupation: \")\n",
    "    df.at[index, 'Father Occupation'] = new_value\n",
    "    changes[index] = {'old_value': current_value, 'new_value': new_value}\n",
    "\n",
    "# Save changes to the original file\n",
    "df.to_excel(new_file_path, index=False)\n",
    "\n",
    "# Save changes to a separate log file\n",
    "# log_file_path = r'C:\\Users\\Masuod\\Desktop\\Exercise\\Data Mining\\1\\Father_Occupation_Change_log.xlsx'\n",
    "# change_df = pd.DataFrame(changes).T\n",
    "# change_df.to_excel(log_file_path)\n"
   ]
  },
  {
   "cell_type": "code",
   "execution_count": null,
   "metadata": {},
   "outputs": [],
   "source": [
    "# After Cleaning\n",
    "print(df['Father Occupation'].unique())"
   ]
  },
  {
   "cell_type": "code",
   "execution_count": null,
   "metadata": {},
   "outputs": [],
   "source": [
    "print(df['Guardian'].unique())\n",
    "# Checking if need the cleaning but as you can see the result is fine"
   ]
  },
  {
   "cell_type": "code",
   "execution_count": null,
   "metadata": {},
   "outputs": [],
   "source": [
    "# Before Cleaning\n",
    "print(df['School Choice Reason'].unique())"
   ]
  },
  {
   "cell_type": "code",
   "execution_count": null,
   "metadata": {},
   "outputs": [],
   "source": [
    "# Clean column\n",
    "df['School Choice Reason'] = df['School Choice Reason'].str.lower().str.strip()\n",
    "\n",
    "# Define mappings for automatic corrections base on the unique values\n",
    "reason_mapping = {\n",
    "    '\"شهرت\"': 'شهرت',\n",
    "}\n",
    "\n",
    "# Apply automatic corrections based on mappings\n",
    "df['School Choice Reason'] = df['School Choice Reason'].replace(reason_mapping)\n",
    "\n",
    "df.to_excel(new_file_path, index=False)\n"
   ]
  },
  {
   "cell_type": "code",
   "execution_count": null,
   "metadata": {},
   "outputs": [],
   "source": [
    "# After Cleaning\n",
    "print(df['School Choice Reason'].unique())"
   ]
  },
  {
   "cell_type": "code",
   "execution_count": null,
   "metadata": {},
   "outputs": [],
   "source": [
    "# Check if they need Cleaning\n",
    "print(df['Extra Academic Class'].unique())\n",
    "# Fine\n",
    "print(df['Extra-Curricular Activities'].unique())\n",
    "# Fine\n",
    "print(df['Free Time After School'].unique())\n",
    "# Fine\n",
    "print(df['Time Spent with Friends'].unique())"
   ]
  },
  {
   "cell_type": "code",
   "execution_count": null,
   "metadata": {},
   "outputs": [],
   "source": [
    "# Convert the column to strings\n",
    "df['Time Spent with Friends'] = df['Time Spent with Friends'].astype(str)\n",
    "\n",
    "# Find rows with invalid values in the specified column\n",
    "invalid_rows = df[~df['Time Spent with Friends'].str.match('^[1-5]$')]\n",
    "\n",
    "# Dictionary to store changes\n",
    "changes = {}\n",
    "\n",
    "# Iterate through invalid rows and prompt user for replacement\n",
    "for index, row in invalid_rows.iterrows():\n",
    "    current_value = row['Time Spent with Friends']\n",
    "    print(f\"Invalid value found in row {index}: {current_value}\")\n",
    "    print(\"Valid values are integers between 1 and 5\")\n",
    "    new_value = input(\"Enter a valid value: \")\n",
    "    df.at[index, 'Time Spent with Friends'] = new_value\n",
    "    changes[index] = {'old_value': current_value, 'new_value': new_value}\n",
    "    \n",
    "df['Time Spent with Friends'] = df['Time Spent with Friends'].astype(int)\n",
    "\n",
    "# Save changes to the original file\n",
    "df.to_excel(new_file_path, index=False)\n",
    "\n",
    "# Save changes to a separate log file\n",
    "# log_file_path =  r'C:\\Users\\Masuod\\Desktop\\Exercise\\Data Mining\\1\\Time_Spent_with_Friend_Change_log.xlsx'\n",
    "# change_df = pd.DataFrame(changes).T\n",
    "# change_df.to_excel(log_file_path)\n"
   ]
  },
  {
   "cell_type": "code",
   "execution_count": null,
   "metadata": {},
   "outputs": [],
   "source": [
    "print(df['Time Spent with Friends'].unique())"
   ]
  },
  {
   "cell_type": "code",
   "execution_count": null,
   "metadata": {},
   "outputs": [],
   "source": [
    "print(df['First Grade'].unique())\n",
    "print(df['Second Grade'].unique())"
   ]
  },
  {
   "cell_type": "code",
   "execution_count": null,
   "metadata": {},
   "outputs": [],
   "source": [
    "# Convert the column to strings\n",
    "df['Second Grade'] = df['Second Grade'].astype(str)\n",
    "\n",
    "# Find rows with invalid values in the specified column\n",
    "invalid_rows = df[~df['Second Grade'].str.match('^(0|[1-9]|1[0-9]|20)$')]\n",
    "\n",
    "# Dictionary to store changes\n",
    "changes = {}\n",
    "\n",
    "# Iterate through invalid rows and prompt user for replacement\n",
    "for index, row in invalid_rows.iterrows():\n",
    "    current_value = row['Second Grade']\n",
    "    print(f\"Invalid value found in row {index}: {current_value}\")\n",
    "    print(\"Valid values are integers between 0 and 20\")\n",
    "    new_value = input(\"Enter a valid value: \")\n",
    "    df.at[index, 'Second Grade'] = new_value\n",
    "    changes[index] = {'old_value': current_value, 'new_value': new_value}\n",
    "\n",
    "# Convert the column back to integers, handling potential errors\n",
    "try:\n",
    "    df['Second Grade'] = df['Second Grade'].astype(int)\n",
    "except ValueError as e:\n",
    "    print(f\"Error converting column to integers: {e}\")\n",
    "\n",
    "# Save changes to the original file\n",
    "df.to_excel(file_path, index=False)\n",
    "\n",
    "# Save changes to a separate log file\n",
    "# log_file_path =  r'C:\\Users\\Masuod\\Desktop\\Exercise\\Data Mining\\1\\Second_Grade_log.xlsx'\n",
    "# change_df = pd.DataFrame(changes).T\n",
    "# change_df.to_excel(log_file_path)\n"
   ]
  },
  {
   "cell_type": "code",
   "execution_count": null,
   "metadata": {},
   "outputs": [],
   "source": [
    "print(df['Second Grade'].unique())"
   ]
  },
  {
   "cell_type": "code",
   "execution_count": null,
   "metadata": {},
   "outputs": [],
   "source": [
    "print(df['Final Grade'].unique())"
   ]
  },
  {
   "cell_type": "code",
   "execution_count": null,
   "metadata": {},
   "outputs": [],
   "source": [
    "# Convert the column to strings\n",
    "df['Final Grade'] = df['Final Grade'].astype(str)\n",
    "\n",
    "# Find rows with invalid values in the specified column\n",
    "invalid_rows = df[~df['Final Grade'].str.match('^(0|[1-9]|1[0-9]|20)$')]\n",
    "\n",
    "# Dictionary to store changes\n",
    "changes = {}\n",
    "\n",
    "# Iterate through invalid rows and prompt user for replacement\n",
    "for index, row in invalid_rows.iterrows():\n",
    "    current_value = row['Final Grade']\n",
    "    print(f\"Invalid value found in row {index}: {current_value}\")\n",
    "    print(\"Valid values are integers between 0 and 20\")\n",
    "    new_value = input(\"Enter a valid value: \")\n",
    "    df.at[index, 'Final Grade'] = new_value\n",
    "    changes[index] = {'old_value': current_value, 'new_value': new_value}\n",
    "\n",
    "# Convert the column back to integers, handling potential errors\n",
    "try:\n",
    "    df['Final Grade'] = df['Final Grade'].astype(int)\n",
    "except ValueError as e:\n",
    "    print(f\"Error converting column to integers: {e}\")\n",
    "\n",
    "# Save changes to the original file\n",
    "df.to_excel(file_path, index=False)\n",
    "\n",
    "# Save changes to a separate log file\n",
    "# log_file_path =  r'C:\\Users\\Masuod\\Desktop\\Exercise\\Data Mining\\1\\Second_Grade_log.xlsx'\n",
    "# change_df = pd.DataFrame(changes).T\n",
    "# change_df.to_excel(log_file_path)\n"
   ]
  },
  {
   "cell_type": "code",
   "execution_count": null,
   "metadata": {},
   "outputs": [],
   "source": [
    "print(df['Final Grade'].unique())"
   ]
  },
  {
   "cell_type": "markdown",
   "metadata": {},
   "source": [
    "# Understanding On Project\n",
    "\n",
    "1. Correlation between Grade means (First Grade + Second Grade + Final Grade Columns) and Guardian Job(Guardian + Father Occupation + Mother Occupation)$$Means = \\frac{First Grade + Second Grade + Final Grade}{3}$$\n",
    "2. How student use their free time?\n",
    "\tFree Time After School: Time Spent with Friends - Weekly Study Time\n",
    "3. Commute time > 30 min --> School Choice Reason == شهرت or ترجیح دوره\n",
    "4. Which Exam Student have more under 12 grade? (First Grade - Second Grade - Final Grade)\n",
    "5. Percentage of Student that attend Extra Academic Class + Correlation between Academic Class AND Student Grades (First Grade - Second Grade - Final Grade OR Grade Means(First question))\n",
    "6. Time series in Student Grade (First Grade - Second Grade - Final Grade)\n",
    "\n",
    "As you can see these are the only columns that seems like you need"
   ]
  },
  {
   "cell_type": "markdown",
   "metadata": {},
   "source": [
    "## First Question"
   ]
  },
  {
   "cell_type": "markdown",
   "metadata": {},
   "source": [
    "### First Approach\n",
    "in this approach we gonna just see what is the correlation of the teacher guardian with means grade "
   ]
  },
  {
   "cell_type": "code",
   "execution_count": null,
   "metadata": {},
   "outputs": [],
   "source": [
    "# Mapping for Guardian\n",
    "guardian_mapping = {'دیگری': 0, 'مادر': 1, 'پدر': 1}\n",
    "\n",
    "# Apply mapping to 'Guardian' column\n",
    "df['Guardian_Encoded'] = df['Guardian'].map(guardian_mapping)\n",
    "\n",
    "# Mapping for Mother and Father Occupation\n",
    "occupation_mapping = {\n",
    "    'at_home': 0,\n",
    "    'health': 0,\n",
    "    'other': 0,\n",
    "    'services': 0,\n",
    "    'teacher': 1\n",
    "    # Add more mappings for other occupations as needed\n",
    "}\n",
    "\n",
    "# Create columns to store encoded values for Mother and Father Occupation\n",
    "df['Mother_Occupation_Encoded'] = df['Mother Occupation'].replace(occupation_mapping)\n",
    "df['Father_Occupation_Encoded'] = df['Father Occupation'].replace(occupation_mapping)\n",
    "\n",
    "# Function to apply the conditional mapping based on 'Guardian' value\n",
    "def map_based_on_guardian(row):\n",
    "    if row['Guardian'] == 'دیگری':\n",
    "        return 0\n",
    "    elif row['Guardian'] == 'مادر':\n",
    "        return row['Mother_Occupation_Encoded']\n",
    "    elif row['Guardian'] == 'پدر':\n",
    "        return row['Father_Occupation_Encoded']\n",
    "    else:\n",
    "        return None\n",
    "\n",
    "# Apply the function to create the final encoded column\n",
    "df['Final_Encoded'] = df.apply(map_based_on_guardian, axis=1)\n",
    "\n",
    "print(df['Final_Encoded'])\n",
    "print(df['Final_Encoded'].unique())\n",
    "\n",
    "encoded_counts = df['Final_Encoded'].value_counts()\n",
    "print(encoded_counts)\n"
   ]
  },
  {
   "cell_type": "code",
   "execution_count": null,
   "metadata": {},
   "outputs": [],
   "source": [
    "# List of grade columns\n",
    "grade_cols = ['First Grade', 'Second Grade', 'Final Grade']\n",
    "\n",
    "# Convert grade columns to numeric\n",
    "df[grade_cols] = df[grade_cols].apply(pd.to_numeric, errors='coerce')\n",
    "\n",
    "# Calculate mean of grade columns\n",
    "df['Mean_Grades'] = df[grade_cols].mean(axis=1)\n",
    "\n",
    "# Display the DataFrame with the newly calculated 'Mean_Grades' column\n",
    "print(df['Mean_Grades'])\n"
   ]
  },
  {
   "cell_type": "code",
   "execution_count": null,
   "metadata": {},
   "outputs": [],
   "source": [
    "# finding empty value...\n",
    "# rows_with_empty_strings = df[df['Final_Encoded'] == '']\n",
    "\n",
    "# print(rows_with_empty_strings)"
   ]
  },
  {
   "cell_type": "code",
   "execution_count": null,
   "metadata": {},
   "outputs": [],
   "source": [
    "import seaborn as sns\n",
    "import matplotlib.pyplot as plt\n",
    "\n",
    "# Calculate correlation matrix\n",
    "correlation_matrix = df[['Mean_Grades', 'Final_Encoded']].corr()\n",
    "\n",
    "# Plot the heatmap\n",
    "plt.figure(figsize=(6, 4))\n",
    "sns.heatmap(correlation_matrix, annot=True, cmap='coolwarm', fmt='.2f')\n",
    "plt.title('Correlation between Mean Grades and Final Encoded')\n",
    "plt.show()"
   ]
  },
  {
   "cell_type": "markdown",
   "metadata": {},
   "source": [
    "### Second Approach\n",
    "This was the first Approach to the first question we can do it this way too that we see the means for each of these groups"
   ]
  },
  {
   "cell_type": "code",
   "execution_count": null,
   "metadata": {},
   "outputs": [],
   "source": [
    "# Mapping for Guardian\n",
    "guardian_mapping = {'دیگری': 0, 'مادر': 1, 'پدر': 1}\n",
    "\n",
    "# Apply mapping to 'Guardian' column\n",
    "df['Guardian_Encoded'] = df['Guardian'].map(guardian_mapping)\n",
    "\n",
    "# Mapping for Mother and Father Occupation\n",
    "occupation_mapping = {\n",
    "    'at_home': 1,\n",
    "    'health': 2,\n",
    "    'other': 3,\n",
    "    'services': 4,\n",
    "    'teacher': 5\n",
    "    # Add more mappings for other occupations as needed\n",
    "}\n",
    "\n",
    "# Create columns to store encoded values for Mother and Father Occupation\n",
    "df['Mother_Occupation_Encoded'] = df['Mother Occupation'].replace(occupation_mapping)\n",
    "df['Father_Occupation_Encoded'] = df['Father Occupation'].replace(occupation_mapping)\n",
    "\n",
    "# Function to apply the conditional mapping based on 'Guardian' value\n",
    "def map_based_on_guardian(row):\n",
    "    if row['Guardian'] == 'دیگری':\n",
    "        return 0\n",
    "    elif row['Guardian'] == 'مادر':\n",
    "        return row['Mother_Occupation_Encoded']\n",
    "    elif row['Guardian'] == 'پدر':\n",
    "        return row['Father_Occupation_Encoded']\n",
    "    else:\n",
    "        return None\n",
    "\n",
    "# Apply the function to create the final encoded column\n",
    "df['Final_Encoded_Second'] = df.apply(map_based_on_guardian, axis=1)\n",
    "\n",
    "print(df['Final_Encoded_Second'])\n",
    "print(df['Final_Encoded_Second'].unique())\n",
    "\n",
    "encoded_counts = df['Final_Encoded_Second'].value_counts()\n",
    "print(encoded_counts)\n"
   ]
  },
  {
   "cell_type": "code",
   "execution_count": null,
   "metadata": {},
   "outputs": [],
   "source": [
    "mean_grade_by_encoded = df.groupby('Final_Encoded_Second')['Mean_Grades'].mean()\n",
    "\n",
    "print(mean_grade_by_encoded)\n",
    "\n",
    "reverse_mappin = {\n",
    "    0: 'دیگری',\n",
    "    1: 'at_home',\n",
    "    2: 'health',\n",
    "    3: 'other',\n",
    "    4: 'services',\n",
    "    5: 'teacher'\n",
    "}\n",
    "\n",
    "df['Decoded_Final_Encoded_Second'] = df['Final_Encoded_Second'].map(reverse_mappin)\n",
    "\n",
    "mean_grade_by_decoded = df.groupby('Decoded_Final_Encoded_Second')['Mean_Grades'].mean()\n",
    "\n",
    "print(mean_grade_by_decoded)\n"
   ]
  },
  {
   "cell_type": "markdown",
   "metadata": {},
   "source": [
    "## Second Question"
   ]
  },
  {
   "cell_type": "code",
   "execution_count": null,
   "metadata": {},
   "outputs": [],
   "source": [
    "\n",
    "correlation = df['Time Spent with Friends'].corr(df['Weekly Study Time'])\n",
    "\n",
    "print(f\"Correlation between Time Spent with Friends and Weekly Study Time: {correlation:.2f}\")\n",
    "\n",
    "import matplotlib.pyplot as plt\n",
    "\n",
    "plt.scatter(df['Time Spent with Friends'], df['Weekly Study Time'])\n",
    "plt.title('Scatter Plot: Time Spent with Friends vs Weekly Study Time')\n",
    "plt.xlabel('Time Spent with Friends')\n",
    "plt.ylabel('Weekly Study Time')\n",
    "plt.show()\n"
   ]
  },
  {
   "cell_type": "markdown",
   "metadata": {},
   "source": [
    "## Third Question\n"
   ]
  },
  {
   "cell_type": "code",
   "execution_count": null,
   "metadata": {},
   "outputs": [],
   "source": [
    "filtered_df = df[df['Commute Time'].isin([3, 4])]\n",
    "\n",
    "count_by_commute_time_reason = filtered_df.groupby('Commute Time')['School Choice Reason'].value_counts()\n",
    "\n",
    "print(count_by_commute_time_reason)\n"
   ]
  },
  {
   "cell_type": "markdown",
   "metadata": {},
   "source": [
    "## Forth Question"
   ]
  },
  {
   "cell_type": "code",
   "execution_count": null,
   "metadata": {},
   "outputs": [],
   "source": [
    "# First Approach\n",
    "\n",
    "# Calculate means of each exam grade\n",
    "first_grade_mean = df['First Grade'].mean()\n",
    "second_grade_mean = df['Second Grade'].mean()\n",
    "final_grade_mean = df['Final Grade'].mean()\n",
    "\n",
    "# Display the means\n",
    "print(f\"Mean of First Grade: {first_grade_mean}\")\n",
    "print(f\"Mean of Second Grade: {second_grade_mean}\")\n",
    "print(f\"Mean of Final Grade: {final_grade_mean}\")\n",
    "\n",
    "# Compare the means\n",
    "if first_grade_mean > second_grade_mean and first_grade_mean > final_grade_mean:\n",
    "    print(\"First Grade mean is the highest.\")\n",
    "elif second_grade_mean > first_grade_mean and second_grade_mean > final_grade_mean:\n",
    "    print(\"Second Grade mean is the highest.\")\n",
    "elif final_grade_mean > first_grade_mean and final_grade_mean > second_grade_mean:\n",
    "    print(\"Final Grade mean is the highest.\")\n",
    "else:\n",
    "    print(\"There is a tie between means.\")\n"
   ]
  },
  {
   "cell_type": "code",
   "execution_count": null,
   "metadata": {},
   "outputs": [],
   "source": [
    "# Second Approach\n",
    "import numpy as np\n",
    "\n",
    "means = df[['First Grade', 'Second Grade', 'Final Grade']].mean()\n",
    "\n",
    "print(means)\n",
    "\n",
    "# Find the highest mean value\n",
    "highest_mean = np.max(means)\n",
    "highest_exam = means.idxmax()\n",
    "\n",
    "print(f\"The highest mean value is in the {highest_exam} column: {highest_mean}\")\n",
    "\n",
    "\n",
    "\n"
   ]
  },
  {
   "cell_type": "code",
   "execution_count": null,
   "metadata": {},
   "outputs": [],
   "source": [
    "# Another Approach is this too\n",
    "means = df[['First Grade', 'Second Grade', 'Final Grade']].mean()\n",
    "sorted_means = means.sort_values(ascending=False)\n",
    "\n",
    "first_mean = sorted_means.iloc[0]\n",
    "second_mean = sorted_means.iloc[1]\n",
    "third_mean = sorted_means.iloc[2]\n",
    "\n",
    "print(f\"The highest mean is: {first_mean}\")\n",
    "print(f\"The second highest mean is: {second_mean}\")\n",
    "print(f\"The third highest mean is: {third_mean}\")\n"
   ]
  },
  {
   "cell_type": "markdown",
   "metadata": {},
   "source": [
    "## Fifth Question\n"
   ]
  },
  {
   "cell_type": "code",
   "execution_count": null,
   "metadata": {},
   "outputs": [],
   "source": [
    "attending_classes = df[df['Extra Academic Class'] == 'yes']\n",
    "total_students = len(df)\n",
    "count_attending = len(attending_classes)\n",
    "\n",
    "percentage_attending = (count_attending / total_students) * 100\n",
    "\n",
    "print(f\"Number of students attending extra academic classes: {count_attending}\")\n",
    "print(f\"Total number of students: {total_students}\")\n",
    "print(f\"Percentage of students attending: {percentage_attending:.2f}%\")"
   ]
  },
  {
   "cell_type": "code",
   "execution_count": null,
   "metadata": {},
   "outputs": [],
   "source": [
    "df['Extra Academic Class'] = df['Extra Academic Class'].map({'yes': 1, 'no': 0})\n",
    "\n",
    "correlation = df['Mean_Grades'].corr(df['Extra Academic Class'])\n",
    "\n",
    "print(f\"Correlation between Mean Grades and Extra Academic Class: {correlation:.2f}\")\n",
    "plt.figure(figsize=(8, 6))\n",
    "sns.heatmap(correlation_matrix, annot=True, cmap='coolwarm', fmt='.2f')\n",
    "plt.title('Correlation Heatmap')\n",
    "plt.show()\n",
    "\n"
   ]
  },
  {
   "cell_type": "markdown",
   "metadata": {},
   "source": [
    "## Sixth Question"
   ]
  },
  {
   "cell_type": "code",
   "execution_count": 87,
   "metadata": {},
   "outputs": [
    {
     "name": "stdout",
     "output_type": "stream",
     "text": [
      "The highest mean is: 10.934782608695652\n",
      "The second highest mean is: 10.769565217391305\n",
      "The third highest mean is: 10.484782608695653\n"
     ]
    }
   ],
   "source": [
    "means = df[['First Grade', 'Second Grade', 'Final Grade']].mean()\n",
    "sorted_means = means.sort_values(ascending=False)\n",
    "\n",
    "first_mean = sorted_means.iloc[0]\n",
    "second_mean = sorted_means.iloc[1]\n",
    "third_mean = sorted_means.iloc[2]\n",
    "\n",
    "print(f\"The highest mean is: {first_mean}\")\n",
    "print(f\"The second highest mean is: {second_mean}\")\n",
    "print(f\"The third highest mean is: {third_mean}\")"
   ]
  },
  {
   "cell_type": "code",
   "execution_count": 94,
   "metadata": {},
   "outputs": [
    {
     "name": "stdout",
     "output_type": "stream",
     "text": [
      "Most studied exam: First Grade\n",
      "Least studied exam: Final Grade\n"
     ]
    }
   ],
   "source": [
    "# Calculate the differences between means\n",
    "diff_first_second = first_grade_mean - second_grade_mean\n",
    "diff_first_final = first_grade_mean - final_grade_mean\n",
    "diff_second_final = second_grade_mean - final_grade_mean\n",
    "\n",
    "# Identify the most and least studied exams\n",
    "most_studied_exam = \"\"\n",
    "least_studied_exam = \"\"\n",
    "\n",
    "if diff_first_second > 0 and diff_first_final > 0:\n",
    "    most_studied_exam = 'First Grade'\n",
    "elif diff_second_final > 0:\n",
    "    most_studied_exam = 'Second Grade'\n",
    "else:\n",
    "    most_studied_exam = 'Final Grade'\n",
    "\n",
    "if diff_first_second < 0 and diff_first_final < 0:\n",
    "    least_studied_exam = 'First Grade'\n",
    "elif diff_second_final < 0:\n",
    "    least_studied_exam = 'Second Grade'\n",
    "else:\n",
    "    least_studied_exam = 'Final Grade'\n",
    "\n",
    "print(f\"Most studied exam: {most_studied_exam}\")\n",
    "print(f\"Least studied exam: {least_studied_exam}\")\n"
   ]
  }
 ],
 "metadata": {
  "kernelspec": {
   "display_name": "Python 3",
   "language": "python",
   "name": "python3"
  },
  "language_info": {
   "codemirror_mode": {
    "name": "ipython",
    "version": 3
   },
   "file_extension": ".py",
   "mimetype": "text/x-python",
   "name": "python",
   "nbconvert_exporter": "python",
   "pygments_lexer": "ipython3",
   "version": "3.8.6"
  }
 },
 "nbformat": 4,
 "nbformat_minor": 2
}
